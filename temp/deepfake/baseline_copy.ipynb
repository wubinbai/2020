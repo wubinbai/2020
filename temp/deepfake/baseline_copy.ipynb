{
 "cells": [
  {
   "cell_type": "code",
   "execution_count": 1,
   "metadata": {},
   "outputs": [],
   "source": [
    "import torch\n",
    "from torch.utils.data import Dataset, DataLoader\n",
    "import torch.nn as nn\n",
    "import torch.optim as optim\n",
    "import torch.nn.functional as F\n",
    "from torchvision import transforms\n",
    "import random\n",
    "import librosa\n",
    "from scipy.io import wavfile\n",
    "import numpy as np\n",
    "from PIL import Image\n",
    "import matplotlib.pyplot as plt\n",
    "import os"
   ]
  },
  {
   "cell_type": "code",
   "execution_count": 2,
   "metadata": {},
   "outputs": [],
   "source": [
    "from sklearn import metrics\n",
    "import warnings\n",
    "warnings.filterwarnings(\"ignore\")"
   ]
  },
  {
   "cell_type": "code",
   "execution_count": 18,
   "metadata": {},
   "outputs": [],
   "source": [
    "epochs = 60\n",
    "batch_size = 8\n",
    "learning_rate = 0.0000075\n",
    "device_cpu = torch.device('cpu')\n",
    "device=torch.device(\"cuda:0\")\n",
    "root = \"/home/dl/yufeng/mels/\""
   ]
  },
  {
   "cell_type": "code",
   "execution_count": 4,
   "metadata": {},
   "outputs": [],
   "source": [
    "from sklearn.model_selection import train_test_split\n",
    "import pandas as pd\n",
    "\n",
    "train = pd.read_csv('/home/dl/yufeng/trainV3.csv')\n",
    "val = pd.read_csv('/home/dl/yufeng/trainV3.csv')"
   ]
  },
  {
   "cell_type": "code",
   "execution_count": 5,
   "metadata": {},
   "outputs": [],
   "source": [
    "class MyDataSet(Dataset):\n",
    "    def __init__(self, df_data, mode, data_dir, transform=None):\n",
    "        super().__init__()\n",
    "        self.df = df_data\n",
    "        self.mode = mode\n",
    "        self.data_dir = data_dir\n",
    "        self.transform = transform\n",
    "        self.data_list = list(df_data)\n",
    "    \n",
    "    def __len__(self):\n",
    "        return len(self.df)\n",
    "    \n",
    "    def __getitem__(self, index):\n",
    "        if(self.mode == 'train'):\n",
    "            vedio_name = self.df['vedio_name'][index]\n",
    "            mel_name = vedio_name.split(\".\")[0]+\".npy\"\n",
    "            label = self.df['real_or_fake'][index]\n",
    "            part = self.df['part'][index]\n",
    "            path = os.path.join(self.data_dir, str(part), mel_name)\n",
    "            mel=np.load(path)\n",
    "            if self.transform is not None:\n",
    "                mel = mel[:,:400]\n",
    "                mel = trans_train(mel)\n",
    "            return mel, label"
   ]
  },
  {
   "cell_type": "code",
   "execution_count": 6,
   "metadata": {},
   "outputs": [],
   "source": [
    "trans_train = transforms.Compose([\n",
    "    transforms.ToTensor(),\n",
    "    transforms.Normalize(\n",
    "        [0.5], \n",
    "        [0.5])\n",
    "])"
   ]
  },
  {
   "cell_type": "code",
   "execution_count": 7,
   "metadata": {},
   "outputs": [],
   "source": [
    "dataset_train = MyDataSet(df_data=train, mode='train', transform=trans_train, data_dir=root)\n",
    "dataset_valid = MyDataSet(df_data=val, mode='train', transform=trans_train, data_dir=root)\n",
    "loader_train = DataLoader(dataset=dataset_train, batch_size=batch_size, shuffle=True, num_workers=8)\n",
    "loader_valid = DataLoader(dataset=dataset_valid, batch_size=batch_size,shuffle=False, num_workers=8)"
   ]
  },
  {
   "cell_type": "code",
   "execution_count": 8,
   "metadata": {},
   "outputs": [],
   "source": [
    "class SimpleNet(nn.Module):\n",
    "    def __init__(self):\n",
    "        super(SimpleNet, self).__init__()\n",
    "        self.conv1 = nn.Conv2d(in_channels=1, out_channels=16, kernel_size=3, padding=2)\n",
    "        self.conv2 = nn.Conv2d(in_channels=16, out_channels=32, kernel_size=3, padding=2)\n",
    "        self.conv3 = nn.Conv2d(in_channels=32, out_channels=64, kernel_size=3, padding=2)\n",
    "        self.conv4 = nn.Conv2d(in_channels=64, out_channels=128, kernel_size=3, padding=2)\n",
    "        self.bn1 = nn.BatchNorm2d(16)\n",
    "        self.bn2 = nn.BatchNorm2d(32)\n",
    "        self.bn3 = nn.BatchNorm2d(64)\n",
    "        self.bn4 = nn.BatchNorm2d(128)\n",
    "        self.pool = nn.MaxPool2d(kernel_size=2, stride=2)\n",
    "        self.avg = nn.AvgPool2d(8)\n",
    "        self.fc = nn.Linear(128*3, 1)\n",
    "        self.sigmoid = nn.Sigmoid()\n",
    "    def forward(self, x):\n",
    "        x = self.pool(F.leaky_relu(self.bn1(self.conv1(x))))\n",
    "        x = self.pool(F.leaky_relu(self.bn2(self.conv2(x))))\n",
    "        x = self.pool(F.leaky_relu(self.bn3(self.conv3(x))))\n",
    "        x = self.pool(F.leaky_relu(self.bn4(self.conv4(x))))\n",
    "        x = self.avg(x)\n",
    "        x = x.view(-1, 128*3)\n",
    "        x = self.fc(x)\n",
    "        x = self.sigmoid(x)\n",
    "        return x"
   ]
  },
  {
   "cell_type": "code",
   "execution_count": 9,
   "metadata": {},
   "outputs": [],
   "source": [
    "class MASRCNN_activate(nn.Module):\n",
    "    def __init__(self, max_sent_len, embedding_dim, num_conv_blocks, init_neurons, num_classes=2):\n",
    "        super(MASRCNN_activate, self).__init__()\n",
    "        num_dense_neurons = 50\n",
    "        convnet_3 = []\n",
    "        convnet_5 = []\n",
    "        convnet_7 = []\n",
    "        for ly in range(0, num_conv_blocks):\n",
    "            if ly == 0:\n",
    "                convnet_3.append(nn.Conv1d(in_channels=embedding_dim, out_channels=init_neurons, kernel_size=3))\n",
    "                convnet_3.append(nn.LeakyReLU(0.2))\n",
    "                convnet_5.append(nn.Conv1d(in_channels=embedding_dim, out_channels=init_neurons, kernel_size=5))\n",
    "                convnet_5.append(nn.LeakyReLU(0.2))\n",
    "                convnet_7.append(nn.Conv1d(in_channels=embedding_dim, out_channels=init_neurons, kernel_size=7))\n",
    "                convnet_7.append(nn.LeakyReLU(0.2))\n",
    "            elif ly == 1:\n",
    "                convnet_3.append(nn.Conv1d(in_channels=init_neurons, out_channels=init_neurons*(ly*2), kernel_size=3))\n",
    "                convnet_3.append(nn.LeakyReLU(0.2))\n",
    "                convnet_5.append(nn.Conv1d(in_channels=init_neurons, out_channels=init_neurons*(ly*2), kernel_size=5))\n",
    "                convnet_5.append(nn.LeakyReLU(0.2))\n",
    "                convnet_7.append(nn.Conv1d(in_channels=init_neurons, out_channels=init_neurons*(ly*2), kernel_size=7))\n",
    "                convnet_7.append(nn.LeakyReLU(0.2))\n",
    "            else:\n",
    "                convnet_3.append(nn.Conv1d(in_channels=init_neurons*((ly - 1)*2), out_channels=init_neurons*(ly*2), kernel_size=3))\n",
    "                convnet_3.append(nn.LeakyReLU(0.2))\n",
    "                convnet_5.append(nn.Conv1d(in_channels=init_neurons*((ly - 1)*2), out_channels=init_neurons*(ly*2), kernel_size=5))\n",
    "                convnet_5.append(nn.LeakyReLU(0.2))\n",
    "                convnet_7.append(nn.Conv1d(in_channels=init_neurons*((ly - 1)*2), out_channels=init_neurons*(ly*2), kernel_size=7))\n",
    "                convnet_7.append(nn.LeakyReLU(0.2))\n",
    "        self.conv_blocks_3 = nn.Sequential(*convnet_3)\n",
    "        self.conv_blocks_5 = nn.Sequential(*convnet_5)\n",
    "        self.conv_blocks_7 = nn.Sequential(*convnet_7)\n",
    "        self.leakyrelu = nn.LeakyReLU(0.2)\n",
    "        self.maxpool = nn.AdaptiveMaxPool1d(1)\n",
    "        self.dense = nn.Sequential(nn.Linear(448*3, num_dense_neurons),\n",
    "                                    nn.BatchNorm1d(num_dense_neurons),\n",
    "                                    nn.LeakyReLU(0.2)\n",
    "                                    )\n",
    "        self.fc = nn.Linear(50, num_classes)\n",
    "    \n",
    "    def forward(self, x):\n",
    "        x_3 = self.conv_blocks_3(x)\n",
    "        x_5 = self.conv_blocks_5(x)\n",
    "        x_7 = self.conv_blocks_7(x)\n",
    "        x_3 = self.maxpool(x_3)\n",
    "        x_5 = self.maxpool(x_5)\n",
    "        x_7 = self.maxpool(x_7)\n",
    "        x = torch.cat([x_3, x_5, x_7], 2)\n",
    "        x = x.view(x.size(0), -1)\n",
    "        x = self.dense(x)\n",
    "        x = F.dropout(x, p=0.5, training=self.training)\n",
    "        x = self.fc(x)\n",
    "        return x"
   ]
  },
  {
   "cell_type": "code",
   "execution_count": 10,
   "metadata": {},
   "outputs": [],
   "source": [
    "model = SimpleNet().to(device)\n",
    "# model = MASRCNN_activate.to(device)"
   ]
  },
  {
   "cell_type": "code",
   "execution_count": 11,
   "metadata": {},
   "outputs": [],
   "source": [
    "criterion = nn.BCELoss(reduction=\"mean\")\n",
    "optimizer = torch.optim.Adamax(model.parameters(), lr=learning_rate)"
   ]
  },
  {
   "cell_type": "code",
   "execution_count": 19,
   "metadata": {},
   "outputs": [
    {
     "name": "stdout",
     "output_type": "stream",
     "text": [
      "epoch:[1], valid_loss:[0.41219176820528186]\n",
      "epoch:[2], valid_loss:[0.40830754385908596]\n",
      "epoch:[3], valid_loss:[0.4067451468463055]\n",
      "epoch:[4], valid_loss:[0.4062966569639532]\n",
      "epoch:[5], valid_loss:[0.4045149333984275]\n",
      "epoch:[6], valid_loss:[0.40596525135458045]\n",
      "epoch:[7], valid_loss:[0.4089605194017273]\n",
      "epoch:[8], valid_loss:[0.40554527841026233]\n",
      "epoch:[9], valid_loss:[0.4061617256393509]\n",
      "epoch:[10], valid_loss:[0.4033382581012441]\n",
      "epoch:[11], valid_loss:[0.40312227165560793]\n",
      "epoch:[12], valid_loss:[0.40306365598215993]\n",
      "epoch:[13], valid_loss:[0.4056815594180013]\n",
      "epoch:[14], valid_loss:[0.4062258372667795]\n",
      "epoch:[15], valid_loss:[0.40745082433916563]\n",
      "epoch:[16], valid_loss:[0.4076743753529145]\n",
      "epoch:[17], valid_loss:[0.4006223562872893]\n",
      "epoch:[18], valid_loss:[0.399384556845358]\n",
      "epoch:[19], valid_loss:[0.401516983888234]\n",
      "epoch:[20], valid_loss:[0.40084750933961544]\n",
      "epoch:[21], valid_loss:[0.40007904471240524]\n",
      "epoch:[22], valid_loss:[0.39867341706713466]\n",
      "epoch:[23], valid_loss:[0.4011407555996352]\n",
      "epoch:[24], valid_loss:[0.39866170057883565]\n",
      "epoch:[25], valid_loss:[0.40175618073915503]\n",
      "epoch:[26], valid_loss:[0.4059280575377016]\n",
      "epoch:[27], valid_loss:[0.3985717821870824]\n",
      "epoch:[28], valid_loss:[0.3994841604096697]\n",
      "epoch:[29], valid_loss:[0.398990686623532]\n",
      "epoch:[30], valid_loss:[0.4018468058535034]\n",
      "epoch:[31], valid_loss:[0.4078291960433584]\n",
      "epoch:[32], valid_loss:[0.3999416032517204]\n",
      "epoch:[33], valid_loss:[0.3957826541202265]\n",
      "epoch:[34], valid_loss:[0.3969544105331836]\n",
      "epoch:[35], valid_loss:[0.3949071201467401]\n",
      "epoch:[36], valid_loss:[0.3935134739993688]\n",
      "epoch:[37], valid_loss:[0.39456305135227954]\n",
      "epoch:[38], valid_loss:[0.3967959073364227]\n",
      "epoch:[39], valid_loss:[0.3924359439329788]\n",
      "epoch:[40], valid_loss:[0.3943093329013048]\n",
      "epoch:[41], valid_loss:[0.3950510263370216]\n",
      "epoch:[42], valid_loss:[0.3942874687722679]\n",
      "epoch:[43], valid_loss:[0.3947322559844296]\n",
      "epoch:[44], valid_loss:[0.3958182459076246]\n",
      "epoch:[45], valid_loss:[0.3969359351219713]\n",
      "epoch:[46], valid_loss:[0.3927110728963536]\n",
      "epoch:[47], valid_loss:[0.3977878034042059]\n",
      "epoch:[48], valid_loss:[0.40058899355167493]\n",
      "epoch:[49], valid_loss:[0.39285188236516055]\n",
      "epoch:[50], valid_loss:[0.3931479162976636]\n",
      "epoch:[51], valid_loss:[0.3914048116294819]\n",
      "epoch:[52], valid_loss:[0.39696941584785356]\n",
      "epoch:[53], valid_loss:[0.3905362588636608]\n",
      "epoch:[54], valid_loss:[0.3941545807853144]\n",
      "epoch:[55], valid_loss:[0.3916451374980848]\n",
      "epoch:[56], valid_loss:[0.39164165430162107]\n",
      "epoch:[57], valid_loss:[0.3977467447100833]\n",
      "epoch:[58], valid_loss:[0.3901899499097733]\n",
      "epoch:[59], valid_loss:[0.3877560215227773]\n",
      "epoch:[60], valid_loss:[0.3907964620625512]\n",
      "epoch:[61], valid_loss:[0.3884166098894582]\n",
      "epoch:[62], valid_loss:[0.39164944328777107]\n",
      "epoch:[63], valid_loss:[0.39062127137558905]\n",
      "epoch:[64], valid_loss:[0.3931373115424272]\n",
      "epoch:[65], valid_loss:[0.3911902584244697]\n",
      "epoch:[66], valid_loss:[0.38894720580224146]\n",
      "epoch:[67], valid_loss:[0.3902357783446018]\n",
      "epoch:[68], valid_loss:[0.39158199001581195]\n",
      "epoch:[69], valid_loss:[0.3932412594684175]\n",
      "epoch:[70], valid_loss:[0.3907405643499887]\n",
      "epoch:[71], valid_loss:[0.3882558344748506]\n",
      "epoch:[72], valid_loss:[0.3892760744252408]\n",
      "epoch:[73], valid_loss:[0.3881760877903928]\n",
      "epoch:[74], valid_loss:[0.3869886953060732]\n",
      "epoch:[75], valid_loss:[0.39064255454128355]\n",
      "epoch:[76], valid_loss:[0.38850957145675663]\n",
      "epoch:[77], valid_loss:[0.38743618140235936]\n",
      "epoch:[78], valid_loss:[0.3874647537967296]\n",
      "epoch:[79], valid_loss:[0.38823990641168593]\n",
      "epoch:[80], valid_loss:[0.3884688219935686]\n",
      "epoch:[81], valid_loss:[0.39244774255051024]\n",
      "epoch:[82], valid_loss:[0.3864155549678834]\n",
      "epoch:[83], valid_loss:[0.3905026293081096]\n",
      "epoch:[84], valid_loss:[0.38962120512302545]\n",
      "epoch:[85], valid_loss:[0.38654013561660194]\n",
      "epoch:[86], valid_loss:[0.3944417117243139]\n",
      "epoch:[87], valid_loss:[0.38957618695020807]\n",
      "epoch:[88], valid_loss:[0.38729278383928895]\n",
      "epoch:[89], valid_loss:[0.3897013669067106]\n",
      "epoch:[90], valid_loss:[0.39274998684669593]\n",
      "epoch:[91], valid_loss:[0.3892115371640638]\n",
      "epoch:[92], valid_loss:[0.38710424758412004]\n",
      "epoch:[93], valid_loss:[0.3836788896548587]\n",
      "epoch:[94], valid_loss:[0.38202502532101407]\n",
      "epoch:[95], valid_loss:[0.3811265165861855]\n",
      "epoch:[96], valid_loss:[0.38382484914418774]\n",
      "epoch:[97], valid_loss:[0.3805719205020257]\n",
      "epoch:[98], valid_loss:[0.3857175294259823]\n",
      "epoch:[99], valid_loss:[0.38435268340238865]\n",
      "epoch:[100], valid_loss:[0.3886666969010682]\n",
      "epoch:[101], valid_loss:[0.3848066864460165]\n",
      "epoch:[102], valid_loss:[0.38275946430197855]\n",
      "epoch:[103], valid_loss:[0.38204835443524304]\n",
      "epoch:[104], valid_loss:[0.3861762193896979]\n",
      "epoch:[105], valid_loss:[0.38360534501017496]\n",
      "epoch:[106], valid_loss:[0.3874610328594264]\n",
      "epoch:[107], valid_loss:[0.3826146693092852]\n",
      "epoch:[108], valid_loss:[0.38012199714252254]\n",
      "epoch:[109], valid_loss:[0.3879967103820293]\n",
      "epoch:[110], valid_loss:[0.389694457102717]\n",
      "epoch:[111], valid_loss:[0.38379716990522394]\n",
      "epoch:[112], valid_loss:[0.381202392111804]\n",
      "epoch:[113], valid_loss:[0.3853698322033199]\n",
      "epoch:[114], valid_loss:[0.3815788701358593]\n",
      "epoch:[115], valid_loss:[0.38088640140799424]\n",
      "epoch:[116], valid_loss:[0.3874276810904484]\n",
      "epoch:[117], valid_loss:[0.3811179933403147]\n",
      "epoch:[118], valid_loss:[0.38483191869689015]\n",
      "epoch:[119], valid_loss:[0.38210563027323846]\n",
      "epoch:[120], valid_loss:[0.38226567710930526]\n"
     ]
    }
   ],
   "source": [
    "total_step = len(loader_train)\n",
    "min_val_loss = np.inf\n",
    "val_losses = []\n",
    "for epoch in range(epochs):\n",
    "    avg_loss = 0.0\n",
    "    for i, (images, labels) in enumerate(loader_train):\n",
    "        labels = labels.float()\n",
    "        images = images.to(device)\n",
    "        labels = labels.to(device)\n",
    "        optimizer.zero_grad()\n",
    "        # Forward pass\n",
    "        outputs = model(images)\n",
    "        loss = criterion(outputs, labels)\n",
    "        \n",
    "        # Backward and optimize\n",
    "        \n",
    "        loss.backward()\n",
    "        optimizer.step()\n",
    "#         if i%100==0:\n",
    "#             print(\"batch \"+str(i+1)+\" finished.\")\n",
    "        \n",
    "    for i,(images, labels) in enumerate(loader_valid):\n",
    "        labels = labels.float()\n",
    "        images = images.to(device)\n",
    "        labels = labels.to(device)\n",
    "        outputs = model(images)\n",
    "        loss = criterion(outputs, labels)\n",
    "        avg_loss += loss.item() / len(loader_valid)\n",
    "    val_losses.append(avg_loss)\n",
    "        \n",
    "    print('epoch:[{}], valid_loss:[{}]'.format(epoch+1,avg_loss))"
   ]
  },
  {
   "cell_type": "code",
   "execution_count": 20,
   "metadata": {},
   "outputs": [
    {
     "name": "stdout",
     "output_type": "stream",
     "text": [
      "Acc:  0.8078156006716531\n"
     ]
    }
   ],
   "source": [
    "acc = 0\n",
    "for i,(images, labels) in enumerate(loader_valid):\n",
    "    labels = labels.float()\n",
    "    images = images.to(device)\n",
    "    labels = labels.to(device)\n",
    "    outputs = model(images)\n",
    "    acc += torch.sum(outputs.squeeze().round()==labels)\n",
    "acc = acc.to(device_cpu)\n",
    "accuracy = acc.numpy()/float(len(dataset_valid))\n",
    "print(\"Acc:  \" + str(accuracy))"
   ]
  },
  {
   "cell_type": "code",
   "execution_count": 21,
   "metadata": {},
   "outputs": [
    {
     "name": "stdout",
     "output_type": "stream",
     "text": [
      "tensor(5292)\n",
      "6551\n"
     ]
    }
   ],
   "source": [
    "print(acc)\n",
    "print(len(dataset_valid))"
   ]
  },
  {
   "cell_type": "code",
   "execution_count": 22,
   "metadata": {},
   "outputs": [
    {
     "data": {
      "text/plain": [
       "[<matplotlib.lines.Line2D at 0x7f5d657d5828>]"
      ]
     },
     "execution_count": 22,
     "metadata": {},
     "output_type": "execute_result"
    },
    {
     "data": {
      "image/png": "[encoded data removed]",
      "text/plain": [
       "<Figure size 432x288 with 1 Axes>"
      ]
     },
     "metadata": {},
     "output_type": "display_data"
    }
   ],
   "source": [
    "import matplotlib.pyplot as plt\n",
    "plt.plot(val_losses)"
   ]
  },
  {
   "cell_type": "code",
   "execution_count": 16,
   "metadata": {},
   "outputs": [],
   "source": [
    "# flags = list(val['real_or_fake'])\n",
    "# real_cnt = 0\n",
    "# fake_cnt = 0\n",
    "\n",
    "# for flag in flags:\n",
    "#     if flag == 1:\n",
    "#         real_cnt = real_cnt + 1\n",
    "#     elif flag == 0:\n",
    "#         fake_cnt = fake_cnt + 1"
   ]
  },
  {
   "cell_type": "code",
   "execution_count": 17,
   "metadata": {},
   "outputs": [],
   "source": [
    "# print(real_cnt)\n",
    "# print(fake_cnt)"
   ]
  },
  {
   "cell_type": "code",
   "execution_count": null,
   "metadata": {},
   "outputs": [],
   "source": []
  }
 ],
 "metadata": {
  "kernelspec": {
   "display_name": "Python 3",
   "language": "python",
   "name": "python3"
  },
  "language_info": {
   "codemirror_mode": {
    "name": "ipython",
    "version": 3
   },
   "file_extension": ".py",
   "mimetype": "text/x-python",
   "name": "python",
   "nbconvert_exporter": "python",
   "pygments_lexer": "ipython3",
   "version": "3.6.7"
  }
 },
 "nbformat": 4,
 "nbformat_minor": 4
}
