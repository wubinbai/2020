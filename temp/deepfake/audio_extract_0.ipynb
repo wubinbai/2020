{
 "cells": [
  {
   "cell_type": "code",
   "execution_count": 1,
   "metadata": {},
   "outputs": [],
   "source": [
    "import librosa\n",
    "import matplotlib.pyplot as plt\n",
    "import json"
   ]
  },
  {
   "cell_type": "code",
   "execution_count": 2,
   "metadata": {},
   "outputs": [],
   "source": [
    "import os\n",
    "import numpy as np\n",
    "import warnings\n",
    "warnings.filterwarnings(\"ignore\")"
   ]
  },
  {
   "cell_type": "code",
   "execution_count": 3,
   "metadata": {},
   "outputs": [],
   "source": [
    "# 输入完整视频文件名，输出\n",
    "def video2audio_spec(vedio_dir, n_mels=128, is_show=False):\n",
    "    sig, rate = librosa.load(vedio_dir)\n",
    "    melspec = librosa.feature.melspectrogram(sig, rate, n_fft=1024, hop_length=512, n_mels=n_mels)\n",
    "    logmelspec = librosa.power_to_db(melspec)\n",
    "    if is_show is True:\n",
    "        plt.figure()\n",
    "        librosa.display.specshow(logmelspec_real, sr=rate_real, x_axis='time', y_axis='mel')\n",
    "        plt.colorbar(format='%+2.0f dB')        # 右边的色度条\n",
    "        plt.title(vedio_dir.split('/')[-1])\n",
    "        plt.show()\n",
    "    return logmelspec, rate"
   ]
  },
  {
   "cell_type": "code",
   "execution_count": 4,
   "metadata": {},
   "outputs": [
    {
     "name": "stdout",
     "output_type": "stream",
     "text": [
      "part 19 finished.\n",
      "part 20 finished.\n",
      "part 21 finished.\n",
      "part 22 finished.\n",
      "part 23 finished.\n",
      "part 24 finished.\n"
     ]
    }
   ],
   "source": [
    "rates = []\n",
    "\n",
    "for part in range(19,25):\n",
    "    with open(os.path.join('/home/dl/deepfake/xx',str(part+1)+\"metadata.json\"), encoding='utf-8') as f:\n",
    "        line = f.readline()\n",
    "        d = json.loads(line)\n",
    "        for video, video_inf in d.items():\n",
    "            video_dir = os.path.join(\"/home/dl/deepfake/data/videos/\",\"dfdc_train_part_\"+str(part),video)\n",
    "            mel, rate = video2audio_spec(video_dir)\n",
    "            rates.append(rate)\n",
    "            np.save(\"/home/dl/yufeng/mels/\"+str(part)+\"/\"+video.split(\".\")[0]+str(\".npy\"), mel)           \n",
    "    print(\"part \"+str(part)+\" finished.\")"
   ]
  },
  {
   "cell_type": "code",
   "execution_count": null,
   "metadata": {},
   "outputs": [],
   "source": []
  }
 ],
 "metadata": {
  "kernelspec": {
   "display_name": "Python 3",
   "language": "python",
   "name": "python3"
  },
  "language_info": {
   "codemirror_mode": {
    "name": "ipython",
    "version": 3
   },
   "file_extension": ".py",
   "mimetype": "text/x-python",
   "name": "python",
   "nbconvert_exporter": "python",
   "pygments_lexer": "ipython3",
   "version": "3.6.7"
  }
 },
 "nbformat": 4,
 "nbformat_minor": 2
}
