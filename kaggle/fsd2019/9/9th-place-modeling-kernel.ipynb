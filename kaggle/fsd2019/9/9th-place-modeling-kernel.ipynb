{
 "cells": [
  {
   "cell_type": "markdown",
   "metadata": {},
   "source": [
    "**This kernel is used for training our models. In the end, we went with an ensemble of 15 models similar to the one trained here.**\n",
    "\n",
    "**Their CV are all above 0.86 and 5-folds LB varies between 0.71 and 0.72**\n",
    "\n",
    "For our solution writeup, please check : https://www.kaggle.com/c/freesound-audio-tagging-2019/discussion/95409#latest-551352"
   ]
  },
  {
   "cell_type": "markdown",
   "metadata": {},
   "source": [
    "# Initialization"
   ]
  },
  {
   "cell_type": "markdown",
   "metadata": {},
   "source": [
    "## Imports"
   ]
  },
  {
   "cell_type": "code",
   "execution_count": 1,
   "metadata": {
    "_cell_guid": "b1076dfc-b9ad-4769-8c92-a6c4dae69d19",
    "_kg_hide-input": true,
    "_uuid": "8f2839f25d086af736a60e9eeb907d3b93b6e0e5"
   },
   "outputs": [
    {
     "name": "stderr",
     "output_type": "stream",
     "text": [
      "Using TensorFlow backend.\n"
     ]
    },
    {
     "name": "stdout",
     "output_type": "stream",
     "text": [
      "Number of available cpu cores: 2\n"
     ]
    }
   ],
   "source": [
    "import re\n",
    "import gc\n",
    "import os\n",
    "import time\n",
    "import pywt\n",
    "import pickle\n",
    "import random\n",
    "import operator\n",
    "import warnings\n",
    "import numpy as np\n",
    "import pandas as pd\n",
    "import seaborn as sns\n",
    "import tensorflow as tf\n",
    "import IPython.display as ipd\n",
    "import matplotlib.pyplot as plt\n",
    "\n",
    "from PIL import Image\n",
    "from sklearn.metrics import *\n",
    "from collections import Counter\n",
    "from sklearn.model_selection import *\n",
    "from tqdm import tqdm_notebook as tqdm\n",
    "from keras.utils import to_categorical\n",
    "from multiprocessing import Pool, cpu_count\n",
    "from collections import OrderedDict\n",
    "\n",
    "import torch\n",
    "import torch.nn as nn\n",
    "import torch.utils.data\n",
    "import torch.nn.functional as F\n",
    "import torchvision.models as models\n",
    "from torch.autograd import Variable\n",
    "from torch.optim.lr_scheduler import * \n",
    "from torchvision.transforms import transforms\n",
    "from torch.utils.data import Dataset, DataLoader\n",
    "\n",
    "import librosa\n",
    "import librosa.display\n",
    "\n",
    "\n",
    "begin = time.time()\n",
    "sns.set_style('white')\n",
    "warnings.simplefilter(action='ignore', category=FutureWarning) \n",
    "warnings.simplefilter(action='ignore', category=UserWarning)\n",
    "warnings.simplefilter(action='ignore', category=RuntimeWarning)\n",
    "\n",
    "print(\"Number of available cpu cores: {}\".format(cpu_count()))"
   ]
  },
  {
   "cell_type": "markdown",
   "metadata": {},
   "source": [
    "## Seeding"
   ]
  },
  {
   "cell_type": "code",
   "execution_count": 2,
   "metadata": {
    "_cell_guid": "79c7e3d0-c299-4dcb-8224-4455121ee9b0",
    "_kg_hide-input": true,
    "_uuid": "d629ff2d2480ee46fbb7e2d37f6b5fab8052498a"
   },
   "outputs": [],
   "source": [
    "def seed_everything(seed):\n",
    "    random.seed(seed)\n",
    "    os.environ['PYTHONHASHSEED'] = str(seed)\n",
    "    np.random.seed(seed)\n",
    "    torch.manual_seed(seed)\n",
    "    torch.cuda.manual_seed(seed)\n",
    "    torch.backends.cudnn.deterministic = True\n",
    "    tf.set_random_seed(seed)"
   ]
  },
  {
   "cell_type": "code",
   "execution_count": 3,
   "metadata": {},
   "outputs": [],
   "source": [
    "seed = 2019\n",
    "seed_everything(seed)"
   ]
  },
  {
   "cell_type": "code",
   "execution_count": 4,
   "metadata": {
    "_kg_hide-input": true
   },
   "outputs": [],
   "source": [
    "N_JOBS = cpu_count()\n",
    "os.environ['MKL_NUM_THREADS'] = str(N_JOBS)\n",
    "os.environ['OMP_NUM_THREADS'] = str(N_JOBS)\n",
    "DataLoader = partial(DataLoader, num_workers=N_JOBS)"
   ]
  },
  {
   "cell_type": "markdown",
   "metadata": {},
   "source": [
    "## Load Data"
   ]
  },
  {
   "cell_type": "code",
   "execution_count": 5,
   "metadata": {},
   "outputs": [],
   "source": [
    "DATA_PATH = '../input/freesound-audio-tagging-2019/'\n",
    "TRAIN_CURATED_PATH = DATA_PATH + 'train_curated/'\n",
    "TRAIN_NOISY_PATH = DATA_PATH + 'train_noisy/'\n",
    "TEST_PATH = DATA_PATH + 'test/'"
   ]
  },
  {
   "cell_type": "code",
   "execution_count": 6,
   "metadata": {},
   "outputs": [
    {
     "data": {
      "text/html": [
       "<div>\n",
       "<style scoped>\n",
       "    .dataframe tbody tr th:only-of-type {\n",
       "        vertical-align: middle;\n",
       "    }\n",
       "\n",
       "    .dataframe tbody tr th {\n",
       "        vertical-align: top;\n",
       "    }\n",
       "\n",
       "    .dataframe thead th {\n",
       "        text-align: right;\n",
       "    }\n",
       "</style>\n",
       "<table border=\"1\" class=\"dataframe\">\n",
       "  <thead>\n",
       "    <tr style=\"text-align: right;\">\n",
       "      <th></th>\n",
       "      <th>fname</th>\n",
       "      <th>labels</th>\n",
       "    </tr>\n",
       "  </thead>\n",
       "  <tbody>\n",
       "    <tr>\n",
       "      <th>0</th>\n",
       "      <td>0006ae4e.wav</td>\n",
       "      <td>Bark</td>\n",
       "    </tr>\n",
       "    <tr>\n",
       "      <th>1</th>\n",
       "      <td>0019ef41.wav</td>\n",
       "      <td>Raindrop</td>\n",
       "    </tr>\n",
       "    <tr>\n",
       "      <th>2</th>\n",
       "      <td>001ec0ad.wav</td>\n",
       "      <td>Finger_snapping</td>\n",
       "    </tr>\n",
       "    <tr>\n",
       "      <th>3</th>\n",
       "      <td>0026c7cb.wav</td>\n",
       "      <td>Run</td>\n",
       "    </tr>\n",
       "    <tr>\n",
       "      <th>4</th>\n",
       "      <td>0026f116.wav</td>\n",
       "      <td>Finger_snapping</td>\n",
       "    </tr>\n",
       "  </tbody>\n",
       "</table>\n",
       "</div>"
      ],
      "text/plain": [
       "          fname           labels\n",
       "0  0006ae4e.wav             Bark\n",
       "1  0019ef41.wav         Raindrop\n",
       "2  001ec0ad.wav  Finger_snapping\n",
       "3  0026c7cb.wav              Run\n",
       "4  0026f116.wav  Finger_snapping"
      ]
     },
     "execution_count": 6,
     "metadata": {},
     "output_type": "execute_result"
    }
   ],
   "source": [
    "df_train = pd.read_csv(DATA_PATH + 'train_curated.csv')\n",
    "df_noisy = pd.read_csv(DATA_PATH + 'train_noisy.csv')\n",
    "df_test = pd.read_csv(DATA_PATH + 'sample_submission.csv')\n",
    "\n",
    "df_train.head()"
   ]
  },
  {
   "cell_type": "code",
   "execution_count": 7,
   "metadata": {},
   "outputs": [
    {
     "name": "stdout",
     "output_type": "stream",
     "text": [
      "Number of classes : 80\n"
     ]
    }
   ],
   "source": [
    "labels = list(df_test.columns[1:])\n",
    "num_classes = len(labels)\n",
    "\n",
    "print(\"Number of classes :\", num_classes)"
   ]
  },
  {
   "cell_type": "markdown",
   "metadata": {},
   "source": [
    "*Removing \"corrupted\" files*"
   ]
  },
  {
   "cell_type": "code",
   "execution_count": 8,
   "metadata": {},
   "outputs": [],
   "source": [
    "to_remove = [\"f76181c4.wav\", \"77b925c2.wav\", \"6a1f682a.wav\", \"c7db12aa.wav\", \"7752cc8a.wav\", \"1d44b0bd.wav\"]\n",
    "\n",
    "for i in df_train.copy().index:\n",
    "    if df_train['fname'][i] in to_remove:\n",
    "        df_train.drop(i, inplace=True)\n",
    "        \n",
    "df_train = df_train.reset_index(drop=True)"
   ]
  },
  {
   "cell_type": "markdown",
   "metadata": {},
   "source": [
    "*Restraining noisy data to samples with only one label*"
   ]
  },
  {
   "cell_type": "code",
   "execution_count": 9,
   "metadata": {},
   "outputs": [],
   "source": [
    "df_noisy[\"nb_labels\"] = df_noisy[\"labels\"].apply(lambda x: len(x.split(',')))\n",
    "df_noisy = df_noisy[df_noisy[\"nb_labels\"] == 1].copy().reset_index(drop=True)"
   ]
  },
  {
   "cell_type": "markdown",
   "metadata": {},
   "source": [
    "# Signal Processing"
   ]
  },
  {
   "cell_type": "markdown",
   "metadata": {},
   "source": [
    "## Config"
   ]
  },
  {
   "cell_type": "code",
   "execution_count": 10,
   "metadata": {},
   "outputs": [],
   "source": [
    "class config:\n",
    "    sampling_rate = 44100  # 44.1 kHz\n",
    "    duration = 4 #2 # Minimum length for short samples (seconds)\n",
    "    samples = sampling_rate * duration # Minimum sample size\n",
    "    \n",
    "    top_db = 60 # Noise filtering, default = 60\n",
    "    \n",
    "    # Frequencies kept in spectrograms\n",
    "    fmin = 20\n",
    "    fmax =  sampling_rate // 2  # Shannon theorem\n",
    "\n",
    "    # Spectrogram parameters\n",
    "    n_mels = 64 # = spec_height\n",
    "    n_fft = n_mels * 30 # Size of fft window - smooths the spectrogram\n",
    "    spec_min_width = 256 #128\n",
    "    x_mean,x_std = -35.7, 21.6\n",
    "    hop_length = duration * sampling_rate // spec_min_width + 1 # Number of samples between each frame - impacts y size of spectrogram"
   ]
  },
  {
   "cell_type": "markdown",
   "metadata": {},
   "source": [
    "## Read Audio"
   ]
  },
  {
   "cell_type": "code",
   "execution_count": 11,
   "metadata": {},
   "outputs": [],
   "source": [
    "def read_audio(pathname, conf, trim_long_data):\n",
    "    y, sr = librosa.load(pathname, sr=conf.sampling_rate)\n",
    "    # trim silence\n",
    "    if len(y) > 0: # workaround: 0 length causes error\n",
    "        y, _ = librosa.effects.trim(y) # trim, top_db=default(60)\n",
    "    # make it unified length to conf.samples\n",
    "    if len(y) > conf.samples: # long enough\n",
    "        if trim_long_data: y = y[0:0+conf.samples]\n",
    "    else: # pad blank\n",
    "        padding = conf.samples - len(y)    # add padding at both ends\n",
    "        offset = padding // 2\n",
    "        y = np.pad(y, (offset, conf.samples - len(y) - offset), 'constant')\n",
    "    return y"
   ]
  },
  {
   "cell_type": "markdown",
   "metadata": {},
   "source": [
    "## MEL Spectrogram\n",
    "The three chanel mode adds first and second or delta to the data. It did not improve the results."
   ]
  },
  {
   "cell_type": "code",
   "execution_count": 12,
   "metadata": {},
   "outputs": [],
   "source": [
    "def audio_to_melspectrogram(audio, config, three_chanels=False):\n",
    "    spectrogram = librosa.feature.melspectrogram(audio, \n",
    "                                                 sr=config.sampling_rate,\n",
    "                                                 n_mels=config.n_mels,\n",
    "                                                 hop_length=config.hop_length,\n",
    "                                                 n_fft=config.n_fft,\n",
    "                                                 fmin=config.fmin,\n",
    "                                                 fmax=config.fmax)\n",
    "    logmel = librosa.power_to_db(spectrogram).astype(np.float32)\n",
    "    \n",
    "    if three_chanels:\n",
    "        return np.array([logmel, librosa.feature.delta(logmel), librosa.feature.delta(logmel, order=2)])\n",
    "    else:\n",
    "        return logmel"
   ]
  },
  {
   "cell_type": "markdown",
   "metadata": {},
   "source": [
    "## Normalize\n",
    "We can either use individual image statistics or statistics computed on train data."
   ]
  },
  {
   "cell_type": "code",
   "execution_count": 13,
   "metadata": {},
   "outputs": [],
   "source": [
    "def normalize(X, mean=None, std=None):\n",
    "    mean = mean or X.mean()\n",
    "    std = std or (X-X.mean()).std()\n",
    "    return ((X - mean)/std).astype(np.float16)"
   ]
  },
  {
   "cell_type": "markdown",
   "metadata": {},
   "source": [
    "# Labels"
   ]
  },
  {
   "cell_type": "code",
   "execution_count": 14,
   "metadata": {},
   "outputs": [],
   "source": [
    "def get_labels(df, labels):\n",
    "    mapping = {label:i for i, label in enumerate(labels)}\n",
    "    y = np.zeros((len(df), len(labels)))\n",
    "    all_labels = df['labels'].apply(lambda x: x.split(','))\n",
    "    for i, label in enumerate(all_labels):\n",
    "        for l in label:\n",
    "            y[i, mapping[l]] = 1\n",
    "    return y.astype(int)"
   ]
  },
  {
   "cell_type": "code",
   "execution_count": 15,
   "metadata": {},
   "outputs": [],
   "source": [
    "y_train = get_labels(df_train, labels)"
   ]
  },
  {
   "cell_type": "markdown",
   "metadata": {},
   "source": [
    "## Select best noisy samples\n",
    "\n",
    "We load predictions that were computed using a model that was trained only on curated data. The idea is to keep the ones that were the most correctly predicted, using the log loss as metric. As some class were better predicted than others, we restrict the number of added samples to 50 per class."
   ]
  },
  {
   "cell_type": "code",
   "execution_count": 16,
   "metadata": {},
   "outputs": [],
   "source": [
    "scores_noisy = np.load(\"../input/fat-cp/scores.npy\")\n",
    "y_noisy = get_labels(df_noisy, labels)"
   ]
  },
  {
   "cell_type": "code",
   "execution_count": 17,
   "metadata": {},
   "outputs": [],
   "source": [
    "def sort_by_loss(y_noisy, scores_noisy):\n",
    "    losses_dic = {i : log_loss(y_noisy[i], scores_noisy[i]) for i in range(scores_noisy.shape[0])}\n",
    "    sorted_dic = sorted(losses_dic.items(), key=operator.itemgetter(1))\n",
    "    return sorted_dic"
   ]
  },
  {
   "cell_type": "code",
   "execution_count": 18,
   "metadata": {},
   "outputs": [],
   "source": [
    "sorted_by_loss = sort_by_loss(y_noisy, scores_noisy)"
   ]
  },
  {
   "cell_type": "code",
   "execution_count": 19,
   "metadata": {},
   "outputs": [],
   "source": [
    "def select_noisy(sorted_by_loss, nb_noisy, max_per_class=50):\n",
    "    selected = np.array(sorted_by_loss)[:nb_noisy, 0].astype(int)\n",
    "    to_keep = []\n",
    "    counts = {}\n",
    "    for s in selected:\n",
    "        l = df_noisy[\"labels\"][s]\n",
    "        try:\n",
    "            counts[l] += 1\n",
    "        except:\n",
    "            counts[l] = 0\n",
    "        if counts[l] < max_per_class:\n",
    "            to_keep.append(s)\n",
    "            \n",
    "        \n",
    "    return df_noisy.iloc[to_keep].reset_index(drop=True)\n",
    "    \n",
    "    df_noisy_selected"
   ]
  },
  {
   "cell_type": "code",
   "execution_count": 20,
   "metadata": {},
   "outputs": [],
   "source": [
    "nb_noisy = 5000"
   ]
  },
  {
   "cell_type": "code",
   "execution_count": 21,
   "metadata": {},
   "outputs": [],
   "source": [
    "df_noisy_selected = select_noisy(sorted_by_loss, nb_noisy, max_per_class=50)\n",
    "y_noisy = get_labels(df_noisy_selected, labels)"
   ]
  },
  {
   "cell_type": "markdown",
   "metadata": {},
   "source": [
    "## Input data"
   ]
  },
  {
   "cell_type": "code",
   "execution_count": 22,
   "metadata": {},
   "outputs": [],
   "source": [
    "three_chanels = False\n",
    "crop = False"
   ]
  },
  {
   "cell_type": "code",
   "execution_count": 23,
   "metadata": {},
   "outputs": [],
   "source": [
    "def process(df, path, config, crop=False, three_chanels=False):\n",
    "    X = []\n",
    "    for i in df.index:\n",
    "        signal = read_audio(path + df['fname'][i], config, crop)\n",
    "        X.append(normalize(audio_to_melspectrogram(signal, config), config.x_mean, config.x_std)) #normalize based on global statistics\n",
    "        #X.append(normalize(audio_to_melspectrogram(signal, config))) #normalize based on individual statistics\n",
    "    return X"
   ]
  },
  {
   "cell_type": "code",
   "execution_count": 24,
   "metadata": {},
   "outputs": [],
   "source": [
    "# df_train = df_train.head(100)\n",
    "# df_test = df_test.head(100)\n",
    "# df_noisy_selected = df_noisy_selected.head(100)"
   ]
  },
  {
   "cell_type": "code",
   "execution_count": 25,
   "metadata": {},
   "outputs": [
    {
     "name": "stdout",
     "output_type": "stream",
     "text": [
      "CPU times: user 10min 3s, sys: 8min 7s, total: 18min 11s\n",
      "Wall time: 9min 48s\n"
     ]
    }
   ],
   "source": [
    "%%time\n",
    "X_train = process(df_train, TRAIN_CURATED_PATH, config, crop=crop, three_chanels=three_chanels)\n",
    "X_noisy = process(df_noisy_selected, TRAIN_NOISY_PATH, config, crop=crop, three_chanels=three_chanels)\n",
    "X_test = process(df_test, TEST_PATH, config, three_chanels=three_chanels)"
   ]
  },
  {
   "cell_type": "code",
   "execution_count": 26,
   "metadata": {
    "_kg_hide-input": true
   },
   "outputs": [
    {
     "data": {
      "image/png": "[encoded data removed]",
      "text/plain": [
       "<Figure size 1152x163.84 with 1 Axes>"
      ]
     },
     "metadata": {},
     "output_type": "display_data"
    }
   ],
   "source": [
    "plt.matshow(X_train[0].astype(np.float32))\n",
    "plt.show()"
   ]
  },
  {
   "cell_type": "markdown",
   "metadata": {},
   "source": [
    "## Datasets"
   ]
  },
  {
   "cell_type": "markdown",
   "metadata": {},
   "source": [
    "### Augmentation\n",
    "We augment spectrograms by hiding random time & frequency intervals"
   ]
  },
  {
   "cell_type": "code",
   "execution_count": 27,
   "metadata": {},
   "outputs": [],
   "source": [
    "def spec_augment(spec: np.ndarray, num_mask=2, freq_masking_max_percentage=0.15, time_masking_max_percentage=0.3):\n",
    "    spec = spec.copy()\n",
    "    for i in range(num_mask):\n",
    "        num_freqs, num_frames = spec.shape\n",
    "        freq_percentage = random.uniform(0.0, freq_masking_max_percentage)\n",
    "        time_percentage = random.uniform(0.0, time_masking_max_percentage)\n",
    "        \n",
    "        num_freqs_to_mask = int(freq_percentage * num_freqs)\n",
    "        num_frames_to_mask = int(time_percentage * num_frames)\n",
    "        \n",
    "        t0 = int(np.random.uniform(low=0.0, high=num_frames - num_frames_to_mask))\n",
    "        f0 = int(np.random.uniform(low=0.0, high=num_freqs - num_freqs_to_mask))\n",
    "        \n",
    "        spec[:, t0:t0 + num_frames_to_mask] = 0      \n",
    "        spec[f0:f0 + num_freqs_to_mask, :] = 0 \n",
    "        \n",
    "    return spec"
   ]
  },
  {
   "cell_type": "code",
   "execution_count": 28,
   "metadata": {},
   "outputs": [
    {
     "data": {
      "image/png": "[encoded data removed]",
      "text/plain": [
       "<Figure size 1152x163.84 with 1 Axes>"
      ]
     },
     "metadata": {},
     "output_type": "display_data"
    }
   ],
   "source": [
    "plt.matshow(spec_augment(X_train[0].astype(np.float32)))\n",
    "plt.show()"
   ]
  },
  {
   "cell_type": "markdown",
   "metadata": {},
   "source": [
    "### Usual transforms\n",
    "Only the conversion to tensor is kept, we also tried flipping and resized cropping."
   ]
  },
  {
   "cell_type": "code",
   "execution_count": 29,
   "metadata": {
    "_kg_hide-input": true
   },
   "outputs": [],
   "source": [
    "transforms_dict = {\n",
    "    'train': transforms.Compose([\n",
    "        transforms.ToTensor(),\n",
    "    ]),\n",
    "    'test': transforms.Compose([\n",
    "        transforms.ToTensor(),\n",
    "    ]),\n",
    "    'viz': transforms.Compose([\n",
    "    ]),\n",
    "}"
   ]
  },
  {
   "cell_type": "markdown",
   "metadata": {},
   "source": [
    "### Train"
   ]
  },
  {
   "cell_type": "code",
   "execution_count": 30,
   "metadata": {},
   "outputs": [],
   "source": [
    "class FATDatasetTrain(Dataset):\n",
    "    def __init__(self, mels, transforms, y, apply_spec_aug=False):\n",
    "        super().__init__()\n",
    "        self.mels = mels\n",
    "        self.labels = y\n",
    "        self.transforms = transforms\n",
    "        self.apply_spec_aug = apply_spec_aug\n",
    "        \n",
    "    def __len__(self):\n",
    "        return len(self.mels)\n",
    "    \n",
    "    def __getitem__(self, idx):\n",
    "        data = self.mels[idx].astype(np.float32)\n",
    "        base_dim,time_dim = data.shape\n",
    "        crop = random.randint(0, max(time_dim - config.spec_min_width,0))\n",
    "        data = data[0:base_dim,crop:crop + config.spec_min_width]\n",
    "        \n",
    "        if self.apply_spec_aug: \n",
    "            data = spec_augment(data)\n",
    "\n",
    "        data = np.expand_dims(data, axis=2)\n",
    "        data = self.transforms(data)\n",
    "        \n",
    "        label = self.labels[idx]\n",
    "        label = torch.from_numpy(label).float()\n",
    "        return data, label"
   ]
  },
  {
   "cell_type": "markdown",
   "metadata": {},
   "source": [
    "### Test + TTA\n",
    "TTA helped to fight instability, it worked well for us."
   ]
  },
  {
   "cell_type": "code",
   "execution_count": 31,
   "metadata": {},
   "outputs": [],
   "source": [
    "class FATDatasetTest(Dataset):\n",
    "    def __init__(self, mels, transforms, y=None, nb_tta=5):\n",
    "        super().__init__()\n",
    "        self.mels = mels\n",
    "        self.transforms = transforms\n",
    "        self.tta = nb_tta\n",
    "        if y is None:\n",
    "            self.y = np.zeros(len(self.mels))\n",
    "        else:\n",
    "            self.y = y\n",
    "        \n",
    "    def __len__(self):\n",
    "        return len(self.mels) * self.tta\n",
    "    \n",
    "    def __getitem__(self, idx):\n",
    "        new_idx = idx % len(self.mels)\n",
    "        \n",
    "        data = self.mels[new_idx].astype(np.float32)#/255.0\n",
    "        base_dim,time_dim = data.shape\n",
    "        crop = random.randint(0, max(time_dim - config.spec_min_width,0))\n",
    "        data = data[0:base_dim,crop:crop + config.spec_min_width]\n",
    "        data = np.expand_dims(data, axis=2)\n",
    "        data = self.transforms(data)\n",
    "        \n",
    "        return data, self.y[new_idx]"
   ]
  },
  {
   "cell_type": "code",
   "execution_count": 32,
   "metadata": {
    "_kg_hide-input": true
   },
   "outputs": [
    {
     "name": "stdout",
     "output_type": "stream",
     "text": [
      "Input shape :  (64, 256)\n"
     ]
    },
    {
     "data": {
      "image/png": "[encoded data removed]",
      "text/plain": [
       "<Figure size 1152x288 with 1 Axes>"
      ]
     },
     "metadata": {},
     "output_type": "display_data"
    }
   ],
   "source": [
    "dataset = FATDatasetTrain(X_train[:10], transforms_dict['viz'], y_train[:10], apply_spec_aug=True)\n",
    "print('Input shape : ', dataset[0][0].squeeze().shape)\n",
    "plt.matshow(dataset[0][0].squeeze())\n",
    "plt.show()"
   ]
  },
  {
   "cell_type": "markdown",
   "metadata": {},
   "source": [
    "# Modeling"
   ]
  },
  {
   "cell_type": "markdown",
   "metadata": {},
   "source": [
    "## Tools"
   ]
  },
  {
   "cell_type": "markdown",
   "metadata": {},
   "source": [
    "### Adaptative Pooling"
   ]
  },
  {
   "cell_type": "code",
   "execution_count": 33,
   "metadata": {
    "_kg_hide-input": true
   },
   "outputs": [],
   "source": [
    "def adaptive_concat_pool2d(x, sz=(1,1)):\n",
    "    out1 = F.adaptive_avg_pool2d(x, sz).view(x.size(0), -1)\n",
    "    out2 = F.adaptive_max_pool2d(x, sz).view(x.size(0), -1)\n",
    "    return torch.cat([out1, out2], 1)"
   ]
  },
  {
   "cell_type": "markdown",
   "metadata": {},
   "source": [
    "### ConvBlock\n",
    "Adapted from https://www.kaggle.com/mhiro2/simple-2d-cnn-classifier-with-pytorch"
   ]
  },
  {
   "cell_type": "code",
   "execution_count": 34,
   "metadata": {
    "_kg_hide-input": true
   },
   "outputs": [],
   "source": [
    "class ConvBlock(nn.Module):\n",
    "    def __init__(self, in_channels, out_channels, kernel_size=3, pool=True):\n",
    "        super().__init__()\n",
    "        \n",
    "        padding = kernel_size // 2\n",
    "        self.pool = pool\n",
    "        \n",
    "        self.conv1 = nn.Sequential(\n",
    "            nn.Conv2d(in_channels, out_channels, kernel_size=kernel_size, stride=1, padding=padding),\n",
    "            nn.BatchNorm2d(out_channels),\n",
    "            nn.ReLU(),\n",
    "        )\n",
    "        self.conv2 = nn.Sequential(\n",
    "            nn.Conv2d(out_channels + in_channels, out_channels, kernel_size=kernel_size, stride=1, padding=padding),\n",
    "            nn.BatchNorm2d(out_channels),\n",
    "            nn.ReLU(),\n",
    "        )\n",
    "\n",
    "        self._init_weights()\n",
    "        \n",
    "    def _init_weights(self):\n",
    "        for m in self.modules():\n",
    "            if isinstance(m, nn.Conv2d):\n",
    "                nn.init.kaiming_normal_(m.weight)\n",
    "                if m.bias is not None:\n",
    "                    nn.init.zeros_(m.bias)\n",
    "            elif isinstance(m, nn.BatchNorm2d):\n",
    "                nn.init.constant_(m.weight, 1)\n",
    "                nn.init.zeros_(m.bias)\n",
    "        \n",
    "    def forward(self, x): # x.shape = [batch_size, in_channels, a, b]\n",
    "        x1 = self.conv1(x)\n",
    "        x = self.conv2(torch.cat([x, x1],1))\n",
    "        if(self.pool): x = F.avg_pool2d(x, 2)\n",
    "        return x   # x.shape = [batch_size, out_channels, a//2, b//2]"
   ]
  },
  {
   "cell_type": "markdown",
   "metadata": {},
   "source": [
    "## Models"
   ]
  },
  {
   "cell_type": "code",
   "execution_count": 35,
   "metadata": {},
   "outputs": [],
   "source": [
    "class Classifier_M1(nn.Module):\n",
    "    def __init__(self, num_classes=num_classes):\n",
    "        super().__init__()\n",
    "        self.conv = nn.Sequential(\n",
    "            ConvBlock(in_channels=1, out_channels=64),\n",
    "            ConvBlock(in_channels=64, out_channels=128),\n",
    "            ConvBlock(in_channels=128, out_channels=256),\n",
    "            ConvBlock(in_channels=256, out_channels=512),\n",
    "        )\n",
    "        \n",
    "        self.fc = nn.Sequential(\n",
    "            nn.BatchNorm1d(512*2),\n",
    "            nn.Linear(512*2, 128),\n",
    "            nn.PReLU(),\n",
    "            nn.BatchNorm1d(128),\n",
    "            nn.Linear(128, num_classes),\n",
    "        )\n",
    "\n",
    "    def forward(self, x): # batch_size, 3, a, b\n",
    "        x = self.conv(x)  # batch_size, 512, a//16, b//16\n",
    "        x = self.fc(adaptive_concat_pool2d(x))\n",
    "        return x"
   ]
  },
  {
   "cell_type": "code",
   "execution_count": 36,
   "metadata": {},
   "outputs": [],
   "source": [
    "class Classifier_M2(nn.Module):\n",
    "    def __init__(self, num_classes=num_classes):\n",
    "        super().__init__()\n",
    "        self.conv1 = ConvBlock(1,64)\n",
    "        self.conv2 = ConvBlock(64,128)\n",
    "        self.conv3 = ConvBlock(128,256)\n",
    "        self.conv4 = ConvBlock(256,512,pool=False)\n",
    "        \n",
    "        self.fc = nn.Sequential(\n",
    "            nn.BatchNorm1d(1792),\n",
    "            nn.Linear(1792, 256),\n",
    "            nn.PReLU(),\n",
    "            nn.BatchNorm1d(256),\n",
    "            nn.Linear(256, num_classes),\n",
    "        )\n",
    "\n",
    "    def forward(self, x): # batch_size, 3, a, b\n",
    "        x1 = self.conv1(x)\n",
    "        x2 = self.conv2(x1)\n",
    "        x3 = self.conv3(x2)\n",
    "        x4 = self.conv4(x3)\n",
    "        #pyramid pooling\n",
    "        x = torch.cat([adaptive_concat_pool2d(x2), adaptive_concat_pool2d(x3),\n",
    "                       adaptive_concat_pool2d(x4)], 1)\n",
    "        x = self.fc(x)\n",
    "        return x"
   ]
  },
  {
   "cell_type": "code",
   "execution_count": 37,
   "metadata": {},
   "outputs": [],
   "source": [
    "class Classifier_M3(nn.Module):\n",
    "    def __init__(self, num_classes=num_classes):\n",
    "        super().__init__()\n",
    "        self.conv1 = ConvBlock(1,64)\n",
    "        self.conv2 = ConvBlock(64,128)\n",
    "        self.conv3 = ConvBlock(128,256)\n",
    "        self.conv4 = ConvBlock(256,512)\n",
    "        self.conv5 = ConvBlock(512,1024,pool=False)\n",
    "        \n",
    "        self.fc = nn.Sequential(\n",
    "            nn.BatchNorm1d(3840),\n",
    "            nn.Linear(3840, 256),\n",
    "            nn.PReLU(),\n",
    "            nn.BatchNorm1d(256),\n",
    "            nn.Linear(256, num_classes),\n",
    "        )\n",
    "\n",
    "    def forward(self, x): # batch_size, 3, a, b\n",
    "        x1 = self.conv1(x)\n",
    "        x2 = self.conv2(x1)\n",
    "        x3 = self.conv3(x2)\n",
    "        x4 = self.conv4(x3)\n",
    "        x5 = self.conv5(x4)\n",
    "        #pyramid pooling\n",
    "        x = torch.cat([adaptive_concat_pool2d(x2), adaptive_concat_pool2d(x3),\n",
    "                       adaptive_concat_pool2d(x4),adaptive_concat_pool2d(x5)], 1)\n",
    "        x = self.fc(x)\n",
    "        return x"
   ]
  },
  {
   "cell_type": "markdown",
   "metadata": {},
   "source": [
    "# Tools"
   ]
  },
  {
   "cell_type": "markdown",
   "metadata": {},
   "source": [
    "## LwLRAP"
   ]
  },
  {
   "cell_type": "code",
   "execution_count": 38,
   "metadata": {
    "_kg_hide-input": true
   },
   "outputs": [],
   "source": [
    "def _one_sample_positive_class_precisions(scores, truth):\n",
    "    num_classes = scores.shape[0]\n",
    "    pos_class_indices = np.flatnonzero(truth > 0)\n",
    "\n",
    "    if not len(pos_class_indices):\n",
    "        return pos_class_indices, np.zeros(0)\n",
    "\n",
    "    retrieved_classes = np.argsort(scores)[::-1]\n",
    "\n",
    "    class_rankings = np.zeros(num_classes, dtype=np.int)\n",
    "    class_rankings[retrieved_classes] = range(num_classes)\n",
    "\n",
    "    retrieved_class_true = np.zeros(num_classes, dtype=np.bool)\n",
    "    retrieved_class_true[class_rankings[pos_class_indices]] = True\n",
    "\n",
    "    retrieved_cumulative_hits = np.cumsum(retrieved_class_true)\n",
    "\n",
    "    precision_at_hits = (\n",
    "            retrieved_cumulative_hits[class_rankings[pos_class_indices]] /\n",
    "            (1 + class_rankings[pos_class_indices].astype(np.float)))\n",
    "    return pos_class_indices, precision_at_hits"
   ]
  },
  {
   "cell_type": "code",
   "execution_count": 39,
   "metadata": {
    "_kg_hide-input": true
   },
   "outputs": [],
   "source": [
    "def lwlrap(truth, scores):\n",
    "    assert truth.shape == scores.shape\n",
    "    num_samples, num_classes = scores.shape\n",
    "    precisions_for_samples_by_classes = np.zeros((num_samples, num_classes))\n",
    "    for sample_num in range(num_samples):\n",
    "        pos_class_indices, precision_at_hits = _one_sample_positive_class_precisions(scores[sample_num, :], truth[sample_num, :])\n",
    "        precisions_for_samples_by_classes[sample_num, pos_class_indices] = precision_at_hits\n",
    "        \n",
    "    labels_per_class = np.sum(truth > 0, axis=0)\n",
    "    weight_per_class = labels_per_class / float(np.sum(labels_per_class))\n",
    "\n",
    "    per_class_lwlrap = (np.sum(precisions_for_samples_by_classes, axis=0) /\n",
    "                        np.maximum(1, labels_per_class))\n",
    "    return per_class_lwlrap, weight_per_class"
   ]
  },
  {
   "cell_type": "markdown",
   "metadata": {},
   "source": [
    "## Mixup\n",
    "Facebook's implementation is used for Mixup. With its default parameters."
   ]
  },
  {
   "cell_type": "code",
   "execution_count": 40,
   "metadata": {
    "_kg_hide-input": true
   },
   "outputs": [
    {
     "data": {
      "image/png": "[encoded data removed]",
      "text/plain": [
       "<Figure size 432x288 with 1 Axes>"
      ]
     },
     "metadata": {},
     "output_type": "display_data"
    }
   ],
   "source": [
    "alpha_ = 0.4\n",
    "sns.distplot(np.random.beta(alpha_, alpha_, 100000))\n",
    "plt.xlim(0, 1)\n",
    "plt.title(f'Distribution used for Mixup (alpha = {alpha_})', size=15)\n",
    "plt.show()"
   ]
  },
  {
   "cell_type": "code",
   "execution_count": 41,
   "metadata": {
    "_kg_hide-input": true
   },
   "outputs": [],
   "source": [
    "def mixup_data(x, y, alpha=alpha_, use_cuda=True):\n",
    "    if alpha > 0:\n",
    "        lam = np.random.beta(alpha, alpha)\n",
    "    else:\n",
    "        lam = 1\n",
    "\n",
    "    batch_size = x.size()[0]\n",
    "    if use_cuda:\n",
    "        index = torch.randperm(batch_size).cuda()\n",
    "    else:\n",
    "        index = torch.randperm(batch_size)\n",
    "\n",
    "    mixed_x = lam * x + (1 - lam) * x[index, :]\n",
    "    y_a, y_b = y, y[index]\n",
    "    return mixed_x, y_a, y_b, lam"
   ]
  },
  {
   "cell_type": "code",
   "execution_count": 42,
   "metadata": {
    "_kg_hide-input": true
   },
   "outputs": [],
   "source": [
    "def mixup_criterion(criterion, pred, y_a, y_b, lam):\n",
    "    return lam * criterion(pred.float().cuda(), y_a.float().cuda()) + (1 - lam) * criterion(pred.float().cuda(), y_b.float().cuda())"
   ]
  },
  {
   "cell_type": "markdown",
   "metadata": {},
   "source": [
    "## Label Smoothing\n",
    "We tried this as well, without any success. I do believe that clever use of label smoothing & noisy data can improve results"
   ]
  },
  {
   "cell_type": "code",
   "execution_count": 43,
   "metadata": {
    "_kg_hide-input": true
   },
   "outputs": [],
   "source": [
    "def smooth(y, eps=0.4):\n",
    "    a = 1 - eps * (1 + 1/y.shape[1])\n",
    "    b = eps / y.shape[1]\n",
    "    return a * y + b"
   ]
  },
  {
   "cell_type": "markdown",
   "metadata": {},
   "source": [
    "## Learning Rate\n",
    "I reimplemented a custom Scheduler, that does Cosine Annealing and warmup. We found out that warmup played a quite important role"
   ]
  },
  {
   "cell_type": "code",
   "execution_count": 44,
   "metadata": {
    "_kg_hide-input": true
   },
   "outputs": [],
   "source": [
    "class WarmupCosineAnnealingLR(CosineAnnealingLR):\n",
    "    def __init__(self, optimizer, warmup_prop, T_max, eta_min=0, last_epoch=-1):\n",
    "        self.warmup_prop = warmup_prop\n",
    "        super(CosineAnnealingLR, self).__init__(optimizer, T_max, eta_min, last_epoch)\n",
    "\n",
    "    def get_lr(self):\n",
    "        if self.last_epoch < T_max * warmup_prop:\n",
    "            return [self.base_lrs * self.last_epoch/T_max\n",
    "                    for base_lr, group in zip(self.base_lrs, self.optimizer.param_groups)]\n",
    "        else:\n",
    "            return super(CosineAnnealingLR, self).step()"
   ]
  },
  {
   "cell_type": "code",
   "execution_count": 45,
   "metadata": {
    "_kg_hide-input": true
   },
   "outputs": [
    {
     "data": {
      "image/png": "[encoded data removed]",
      "text/plain": [
       "<Figure size 1080x360 with 1 Axes>"
      ]
     },
     "metadata": {},
     "output_type": "display_data"
    }
   ],
   "source": [
    "lr_max = 0.001\n",
    "lr_min = 1e-5\n",
    "warmup_prop = 0.1\n",
    "nb_epochs = 80\n",
    "epochs = [i for i in range(nb_epochs)]\n",
    "lrs_warmup = [lr_max * i / (warmup_prop * nb_epochs) for i in range(1, int(warmup_prop * nb_epochs) + 1)]\n",
    "lrs_scheduler = [lr_min + 0.5 * (lr_max - lr_min) * (1 + np.cos(np.pi * i / ((1 - warmup_prop) * nb_epochs))) for i in range(int((1 - warmup_prop) * nb_epochs))]\n",
    "\n",
    "plt.figure(figsize=(15, 5))\n",
    "plt.axhline(lr_min, label='lr_min', c='skyblue', linestyle='--')\n",
    "plt.axhline(lr_max, label='lr_max', c='orangered', linestyle='--')\n",
    "plt.plot(epochs, lrs_warmup + lrs_scheduler[:len(epochs)])\n",
    "plt.grid(True)\n",
    "plt.legend()\n",
    "plt.title('Learning Rate Scheduling Policy', size=15)\n",
    "plt.show()"
   ]
  },
  {
   "cell_type": "markdown",
   "metadata": {},
   "source": [
    "## Sigmoid"
   ]
  },
  {
   "cell_type": "code",
   "execution_count": 46,
   "metadata": {
    "_kg_hide-input": true
   },
   "outputs": [],
   "source": [
    "def sigmoid(x):\n",
    "    return 1 / (1 + np.exp(-x))"
   ]
  },
  {
   "cell_type": "markdown",
   "metadata": {},
   "source": [
    "## Save & Load"
   ]
  },
  {
   "cell_type": "code",
   "execution_count": 47,
   "metadata": {
    "_kg_hide-input": true
   },
   "outputs": [],
   "source": [
    "def save_model_weights(model, filename, verbose=1):\n",
    "    if verbose:\n",
    "        print(f'Saving weights to {filename}\\n')\n",
    "    torch.save(model.state_dict(), filename)"
   ]
  },
  {
   "cell_type": "code",
   "execution_count": 48,
   "metadata": {
    "_kg_hide-input": true
   },
   "outputs": [],
   "source": [
    "def load_model_weights(model, filename, verbose=1):\n",
    "    if verbose:\n",
    "        print(f'Loading weights from {filename}\\n')\n",
    "    model.load_state_dict(torch.load(filename))\n",
    "    return model"
   ]
  },
  {
   "cell_type": "markdown",
   "metadata": {},
   "source": [
    "## Predict"
   ]
  },
  {
   "cell_type": "code",
   "execution_count": 49,
   "metadata": {
    "_kg_hide-input": true
   },
   "outputs": [],
   "source": [
    "def predict(dataset, model, batch_size=64):\n",
    "    model.eval()\n",
    "    y = np.array([[]] * num_classes).T\n",
    "    loader = torch.utils.data.DataLoader(dataset, batch_size=batch_size, shuffle=False)\n",
    "    with torch.no_grad():\n",
    "        for x, target in loader:\n",
    "            y = np.concatenate((y, sigmoid(model(x.cuda()).view(-1, num_classes).detach().cpu().numpy())))\n",
    "    return y"
   ]
  },
  {
   "cell_type": "markdown",
   "metadata": {},
   "source": [
    "## Fit\n",
    "Code is a bit ugly, you might not want to dive into it. It's PyTorch. Here are the main points :\n",
    "\n",
    "- Weight decay (0.001)\n",
    "- Gradient clipping (1)\n",
    "- Binary Cross Entropy loss\n",
    "- Adam is used here, Adabound was also tried\n",
    "- Custom lr scheduler (see above), with a warmup proportion 0.1 usually.\n",
    "- Apply mixup with a probability *mixup* (chosen at 1)\n",
    "- Checkpointing is used \n"
   ]
  },
  {
   "cell_type": "code",
   "execution_count": 50,
   "metadata": {
    "_kg_hide-input": true
   },
   "outputs": [],
   "source": [
    "def fit(model, train_dataset, val_dataset, epochs=50, batch_size=128, nb_tta=5, mixup=False, warmup_prop=0.1,\n",
    "        verbose=1, cp=False, model_name='model', lr=0.001):\n",
    "    avg_val_loss = 1000\n",
    "    best_score = 0\n",
    "    clip_value = 1.0\n",
    "    \n",
    "    model.cuda()\n",
    "    \n",
    "    opt_params = [\n",
    "        {'params': [p for n, p in list(model.named_parameters()) if not any(nd in n for nd in ['bias', 'LayerNorm.bias', 'LayerNorm.weight'])], 'weight_decay': 0.01},\n",
    "        {'params': [p for n, p in list(model.named_parameters()) if any(nd in n for nd in ['bias', 'LayerNorm.bias', 'LayerNorm.weight'])], 'weight_decay': 0.0}\n",
    "    ]\n",
    "\n",
    "    for p in model.parameters():\n",
    "        p.register_hook(lambda grad: torch.clamp(grad, -clip_value, clip_value))\n",
    "    \n",
    "    optimizer = torch.optim.Adam(opt_params, lr=lr)\n",
    "    scheduler = CosineAnnealingLR(optimizer, T_max=epochs, eta_min=1e-7)\n",
    "    loss_fn = nn.BCEWithLogitsLoss(reduction='sum')\n",
    "    \n",
    "    train_loader = torch.utils.data.DataLoader(train_dataset, batch_size=batch_size, shuffle=True)\n",
    "    val_loader = torch.utils.data.DataLoader(val_dataset, batch_size=batch_size, shuffle=False)\n",
    "        \n",
    "\n",
    "    if warmup_prop >= 1: \n",
    "        warmup_prop = warmup_prop / epochs\n",
    "\n",
    "    for epoch in range(epochs):\n",
    "        model.train()\n",
    "        avg_loss = 0\n",
    "        start_time = time.time()  \n",
    "        \n",
    "        if epoch < epochs * warmup_prop:\n",
    "            lr = 5e-5 + 0.001 * epoch / (epochs * warmup_prop)\n",
    "            for param_group in optimizer.param_groups:\n",
    "                param_group['lr'] = lr\n",
    "        else:\n",
    "            scheduler.step()\n",
    "            lr = np.mean([param_group['lr'] for param_group in optimizer.param_groups])\n",
    "        \n",
    "        for x, y_batch in train_loader:\n",
    "            optimizer.zero_grad()\n",
    "            \n",
    "            dice = np.random.random() < mixup\n",
    "            if dice:\n",
    "                x, y_a, y_b, lam = mixup_data(x, y_batch.float())\n",
    "                x, y_a, y_b = map(Variable, (x, y_a, y_b))\n",
    "    \n",
    "\n",
    "            y_pred = model(x.cuda()).view(-1, num_classes)\n",
    "            if dice:\n",
    "                loss = mixup_criterion(loss_fn, y_pred, y_a, y_b, lam)\n",
    "            else:\n",
    "                loss = loss_fn(y_pred.float(), y_batch.float().cuda())\n",
    "                \n",
    "            loss.backward()\n",
    "            avg_loss += loss.item() / len(train_dataset)\n",
    "            optimizer.step()\n",
    "    \n",
    "        model.eval()\n",
    "        avg_val_loss = 0.\n",
    "        pred_val = np.array([[]]*num_classes).T\n",
    "        \n",
    "        for x, y_batch in val_loader:\n",
    "            y_pred = model(x.cuda()).view(-1, num_classes).detach()\n",
    "            avg_val_loss += loss_fn(y_pred.float(), y_batch.float().cuda()).item() / len(val_dataset)\n",
    "            pred_val = np.concatenate((pred_val, sigmoid(y_pred.cpu().numpy())))\n",
    "            \n",
    "        pred_val = np.mean(pred_val.reshape((nb_tta, -1, num_classes,)), axis=0)\n",
    "        score_class, weight = lwlrap(val_dataset.y, pred_val)\n",
    "        score = (score_class * weight).sum()  \n",
    "                \n",
    "        elapsed_time = time.time() - start_time\n",
    "        \n",
    "        if cp:\n",
    "            if score > best_score:\n",
    "                save_model_weights(model, f\"{model_name}.pt\", verbose=0)\n",
    "                best_score = score\n",
    "        \n",
    "        if (epoch + 1) % verbose == 0:\n",
    "            elapsed_time = elapsed_time * verbose\n",
    "            print(f'Epoch {epoch+1}/{epochs}     lr={lr:.1e}     lwlrap={score:.5f}     ', end='')\n",
    "            print(f'loss={avg_loss:.2f}     val_loss={avg_val_loss:.2f}     t={elapsed_time:.0f}s')\n",
    "            \n",
    "    return best_score"
   ]
  },
  {
   "cell_type": "markdown",
   "metadata": {},
   "source": [
    "## Refit\n",
    "- Same thing as the previous function, but:\n",
    " - We change the scheduler to reduce_lr_on_plateau, starting from 0.001\n",
    " - Used with curated data only"
   ]
  },
  {
   "cell_type": "code",
   "execution_count": 51,
   "metadata": {
    "_kg_hide-input": true
   },
   "outputs": [],
   "source": [
    "def refit(model, train_dataset, val_dataset, epochs=10, batch_size=128, nb_tta=5, mixup=False,\n",
    "          verbose=1, cp=False, model_name='model', best_score=0, lr=0.001):\n",
    "    avg_val_loss = 1000\n",
    "    clip_value = 1.0\n",
    "    \n",
    "    model.cuda()\n",
    "    \n",
    "    opt_params = [\n",
    "        {'params': [p for n, p in list(model.named_parameters()) if not any(nd in n for nd in ['bias', 'LayerNorm.bias', 'LayerNorm.weight'])], 'weight_decay': 0.01},\n",
    "        {'params': [p for n, p in list(model.named_parameters()) if any(nd in n for nd in ['bias', 'LayerNorm.bias', 'LayerNorm.weight'])], 'weight_decay': 0.0}\n",
    "    ]\n",
    "    \n",
    "    for p in model.parameters():\n",
    "        p.register_hook(lambda grad: torch.clamp(grad, -clip_value, clip_value))\n",
    "    \n",
    "    optimizer = torch.optim.Adam(opt_params, lr)\n",
    "    scheduler = ReduceLROnPlateau(optimizer, mode='min', patience=3, factor=0.1, verbose=0)\n",
    "    loss_fn = nn.BCEWithLogitsLoss(reduction='sum')\n",
    "    \n",
    "    train_loader = torch.utils.data.DataLoader(train_dataset, batch_size=batch_size, shuffle=True)\n",
    "    val_loader = torch.utils.data.DataLoader(val_dataset, batch_size=batch_size, shuffle=False)\n",
    "\n",
    "    for epoch in range(epochs):\n",
    "        model.train()\n",
    "        avg_loss = 0\n",
    "        start_time = time.time()  \n",
    "\n",
    "        scheduler.step(avg_val_loss)\n",
    "        lr = np.mean([param_group['lr'] for param_group in optimizer.param_groups])\n",
    "        \n",
    "        for x, y_batch in train_loader:\n",
    "            optimizer.zero_grad()\n",
    "            \n",
    "            dice = np.random.random() < mixup\n",
    "            if dice:\n",
    "                x, y_a, y_b, lam = mixup_data(x, y_batch.float())\n",
    "                x, y_a, y_b = map(Variable, (x, y_a, y_b))\n",
    "    \n",
    "\n",
    "            y_pred = model(x.cuda()).view(-1, num_classes)\n",
    "            if dice:\n",
    "                loss = mixup_criterion(loss_fn, y_pred, y_a, y_b, lam)\n",
    "            else:\n",
    "                loss = loss_fn(y_pred.float(), y_batch.float().cuda())\n",
    "                \n",
    "            loss.backward()\n",
    "            avg_loss += loss.item() / len(train_dataset)\n",
    "            optimizer.step()\n",
    "    \n",
    "        model.eval()\n",
    "        avg_val_loss = 0.\n",
    "        pred_val = np.array([[]]*num_classes).T\n",
    "        \n",
    "        for x, y_batch in val_loader:\n",
    "            y_pred = model(x.cuda()).view(-1, num_classes).detach()\n",
    "            avg_val_loss += loss_fn(y_pred.float(), y_batch.float().cuda()).item() / len(val_dataset)\n",
    "            pred_val = np.concatenate((pred_val, sigmoid(y_pred.cpu().numpy())))\n",
    "            \n",
    "        pred_val = np.mean(pred_val.reshape((nb_tta, -1, num_classes,)), axis=0)\n",
    "        score_class, weight = lwlrap(val_dataset.y, pred_val)\n",
    "        score = (score_class * weight).sum()  \n",
    "                \n",
    "        elapsed_time = time.time() - start_time\n",
    "        \n",
    "        if cp:\n",
    "            if score > best_score:\n",
    "                save_model_weights(model, f\"{model_name}.pt\", verbose=0)\n",
    "                best_score = score\n",
    "        \n",
    "        if (epoch + 1) % verbose == 0:\n",
    "            elapsed_time = elapsed_time * verbose\n",
    "            print(f'Epoch {epoch+1}/{epochs}     lr={lr:.1e}     lwlrap={score:.5f}     ', end='')\n",
    "            print(f'loss={avg_loss:.2f}     val_loss={avg_val_loss:.2f}     t={elapsed_time:.0f}s')\n",
    "    \n",
    "        if lr <= 1e-6:\n",
    "            break\n",
    "    return best_score"
   ]
  },
  {
   "cell_type": "markdown",
   "metadata": {},
   "source": [
    "## $k$-folds\n",
    "- 5 folds Stratified, using one of the labels if there are more. Only curated data is kept.\n",
    "- Fit for 65 (approx.) epochs on curated + selected noisy (optional)\n",
    "- Refit twice for a few epochs on curated only"
   ]
  },
  {
   "cell_type": "code",
   "execution_count": 52,
   "metadata": {
    "_kg_hide-input": true
   },
   "outputs": [],
   "source": [
    "def k_fold(model_class, X, y, X_test, transform_dic, X_noisy=[], y_noisy=np.array([]),\n",
    "           k=5, batch_size=32, epochs=5, seed=2019, nb_tta=5, tta_eval=25, mixup=False,\n",
    "           verbose=1, save=True, cp=False, warmup_prop=0.1, model_name=\"model\", pretrained_path=''):\n",
    "    \n",
    "    splits = list(StratifiedKFold(n_splits=k, shuffle=True, random_state=seed).split(X, np.argmax(y, axis=1)))\n",
    "        \n",
    "    pred_test = np.zeros((len(X_test), num_classes))\n",
    "    pred_oof = np.zeros((y.shape[0], num_classes))\n",
    "\n",
    "    for i, (train_idx, val_idx) in enumerate(splits):\n",
    "        print(f\"-------------   Fold {i+1}  -------------\")\n",
    "        seed_everything(seed + i)\n",
    "        start_time = time.time()\n",
    "        \n",
    "        model = model_class(num_classes=num_classes)\n",
    "        \n",
    "        if len(pretrained_path):\n",
    "            load_model_weights(model, pretrained_path)\n",
    "        \n",
    "        train_dataset = FATDatasetTrain([X[i] for i in train_idx] + X_noisy, transforms=transform_dic['train'], \n",
    "                                        y=np.concatenate((y[train_idx], y_noisy)),apply_spec_aug=True)\n",
    "        val_dataset = FATDatasetTest([X[i] for i in val_idx], transforms=transform_dic['test'], y=y[val_idx], nb_tta=nb_tta)\n",
    "        test_dataset = FATDatasetTest(X_test, transforms=transform_dic['test'], nb_tta=tta_eval)\n",
    "        \n",
    "        print('\\n - Fitting \\n')\n",
    "        \n",
    "        best_score = fit(model, train_dataset, val_dataset, epochs=epochs, batch_size=batch_size, nb_tta=nb_tta, mixup=mixup, \n",
    "                         warmup_prop=warmup_prop, verbose=verbose, cp=cp, model_name=f'{model_name}_{i+1}', lr=1e-3)\n",
    "        \n",
    "        print('\\n - Re-fitting with curated data only (1/2)\\n')\n",
    "        \n",
    "        retrain_dataset = FATDatasetTrain([X[i] for i in train_idx], transforms=transform_dic['train'], y=y[train_idx])\n",
    "        \n",
    "        best_score = refit(model, retrain_dataset, val_dataset, epochs=epochs, batch_size=batch_size, nb_tta=nb_tta, mixup=mixup, \n",
    "                           verbose=verbose, cp=cp, model_name=f'{model_name}_{i+1}', best_score=best_score, lr=1e-4)\n",
    "        \n",
    "        if cp:\n",
    "            load_model_weights(model, f\"{model_name}_{i+1}.pt\", verbose=1)\n",
    "        elif save:\n",
    "            save_model_weights(model, f\"{model_name}_{i+1}.pt\", verbose=1)\n",
    "        \n",
    "        print('\\n - Re-fitting with curated data only (2/2)\\n')\n",
    "        \n",
    "        best_score = refit(model, retrain_dataset, val_dataset, epochs=epochs, batch_size=batch_size, nb_tta=nb_tta, mixup=mixup, \n",
    "                           verbose=verbose, cp=cp, model_name=f'{model_name}_{i+1}', best_score=best_score, lr=1e-4)\n",
    "        \n",
    "        if cp:\n",
    "            load_model_weights(model, f\"{model_name}_{i+1}.pt\", verbose=1)\n",
    "        elif save:\n",
    "            save_model_weights(model, f\"{model_name}_{i+1}.pt\", verbose=1)\n",
    "            \n",
    "        print(f'\\n - Predicting with {tta_eval} TTA \\n')\n",
    "        \n",
    "        val_dataset = FATDatasetTest([X[i] for i in val_idx], transforms=transform_dic['test'], y=y[val_idx], nb_tta=tta_eval)\n",
    "        pred_val = np.mean(predict(val_dataset, model).reshape((tta_eval, -1, num_classes,)), axis=0)\n",
    "        pred_oof[val_idx, :] = pred_val\n",
    "        \n",
    "        score_class, weight = lwlrap(y[val_idx], pred_val)\n",
    "        score = (score_class * weight).sum()\n",
    "        \n",
    "        pred_test += np.mean(predict(test_dataset, model).reshape((tta_eval, -1, num_classes,)), axis=0)\n",
    "\n",
    "        \n",
    "        print(f\"\\n lwlrap : Scored {score :.4f} on validation data\")\n",
    "        print(f\"\\n    Done in {(time.time() - start_time) / 60 :.1f} minutes \\n\")\n",
    "        \n",
    "    return pred_test, pred_oof"
   ]
  },
  {
   "cell_type": "markdown",
   "metadata": {},
   "source": [
    "# Training"
   ]
  },
  {
   "cell_type": "markdown",
   "metadata": {},
   "source": [
    "### Parameters"
   ]
  },
  {
   "cell_type": "code",
   "execution_count": 53,
   "metadata": {},
   "outputs": [],
   "source": [
    "model_name = \"model\"\n",
    "k = 5\n",
    "epochs = 65\n",
    "batch_size = 64\n",
    "nb_tta = 5\n",
    "mixup = 1\n",
    "cp = True\n",
    "warmup_prop = 0.1"
   ]
  },
  {
   "cell_type": "code",
   "execution_count": 54,
   "metadata": {
    "_kg_hide-output": true
   },
   "outputs": [],
   "source": [
    "model = Classifier_M3\n",
    "transforms_ = transforms_dict"
   ]
  },
  {
   "cell_type": "markdown",
   "metadata": {},
   "source": [
    "### Weights pretrained on noisy data\n",
    "In case we want to use weights pretrained on noisy, we specify weights to load."
   ]
  },
  {
   "cell_type": "code",
   "execution_count": 55,
   "metadata": {},
   "outputs": [],
   "source": [
    "# cp_path = \"../input/fat-cp/new_default_65.pt\"\n",
    "cp_path = ''"
   ]
  },
  {
   "cell_type": "markdown",
   "metadata": {},
   "source": [
    "### Fitting"
   ]
  },
  {
   "cell_type": "code",
   "execution_count": 56,
   "metadata": {
    "_kg_hide-output": true
   },
   "outputs": [
    {
     "name": "stdout",
     "output_type": "stream",
     "text": [
      "-------------   Fold 1  -------------\n",
      "\n",
      " - Fitting \n",
      "\n",
      "Epoch 1/65     lr=5.0e-05     lwlrap=0.26018     loss=55.27     val_loss=55.02     t=51s\n",
      "Epoch 2/65     lr=2.0e-04     lwlrap=0.32222     loss=52.35     val_loss=47.70     t=51s\n",
      "Epoch 3/65     lr=3.6e-04     lwlrap=0.26679     loss=34.57     val_loss=20.81     t=50s\n",
      "Epoch 4/65     lr=5.1e-04     lwlrap=0.31297     loss=10.67     val_loss=5.44     t=50s\n",
      "Epoch 5/65     lr=6.7e-04     lwlrap=0.36285     loss=5.08     val_loss=5.00     t=50s\n",
      "Epoch 6/65     lr=8.2e-04     lwlrap=0.37723     loss=4.69     val_loss=4.69     t=50s\n",
      "Epoch 7/65     lr=9.7e-04     lwlrap=0.43856     loss=4.48     val_loss=4.38     t=50s\n",
      "Epoch 8/65     lr=1.0e-03     lwlrap=0.54052     loss=4.26     val_loss=3.80     t=50s\n",
      "Epoch 9/65     lr=1.0e-03     lwlrap=0.60203     loss=4.01     val_loss=3.60     t=50s\n",
      "Epoch 10/65     lr=1.0e-03     lwlrap=0.50895     loss=3.93     val_loss=4.25     t=50s\n",
      "Epoch 11/65     lr=9.9e-04     lwlrap=0.61065     loss=3.86     val_loss=3.43     t=50s\n",
      "Epoch 12/65     lr=9.9e-04     lwlrap=0.68352     loss=3.68     val_loss=3.00     t=51s\n",
      "Epoch 13/65     lr=9.9e-04     lwlrap=0.66243     loss=3.74     val_loss=3.14     t=51s\n",
      "Epoch 14/65     lr=9.8e-04     lwlrap=0.66513     loss=3.65     val_loss=3.08     t=50s\n",
      "Epoch 15/65     lr=9.7e-04     lwlrap=0.69114     loss=3.68     val_loss=2.97     t=50s\n",
      "Epoch 16/65     lr=9.6e-04     lwlrap=0.67038     loss=3.59     val_loss=3.05     t=51s\n",
      "Epoch 17/65     lr=9.5e-04     lwlrap=0.74167     loss=3.55     val_loss=2.65     t=50s\n",
      "Epoch 18/65     lr=9.4e-04     lwlrap=0.73690     loss=3.45     val_loss=2.61     t=51s\n",
      "Epoch 19/65     lr=9.3e-04     lwlrap=0.73952     loss=3.38     val_loss=2.56     t=51s\n",
      "Epoch 20/65     lr=9.2e-04     lwlrap=0.76187     loss=3.31     val_loss=2.55     t=50s\n",
      "Epoch 21/65     lr=9.0e-04     lwlrap=0.73961     loss=3.37     val_loss=2.65     t=51s\n",
      "Epoch 22/65     lr=8.9e-04     lwlrap=0.75324     loss=3.26     val_loss=2.45     t=50s\n",
      "Epoch 23/65     lr=8.7e-04     lwlrap=0.75069     loss=3.30     val_loss=2.48     t=51s\n",
      "Epoch 24/65     lr=8.6e-04     lwlrap=0.69725     loss=3.04     val_loss=2.94     t=50s\n",
      "Epoch 25/65     lr=8.4e-04     lwlrap=0.76349     loss=3.24     val_loss=2.56     t=51s\n",
      "Epoch 26/65     lr=8.2e-04     lwlrap=0.78099     loss=3.13     val_loss=2.32     t=51s\n",
      "Epoch 27/65     lr=8.0e-04     lwlrap=0.76385     loss=3.30     val_loss=2.36     t=51s\n",
      "Epoch 28/65     lr=7.8e-04     lwlrap=0.77796     loss=3.14     val_loss=2.37     t=51s\n",
      "Epoch 29/65     lr=7.6e-04     lwlrap=0.78999     loss=3.08     val_loss=2.23     t=50s\n",
      "Epoch 30/65     lr=7.4e-04     lwlrap=0.77614     loss=3.11     val_loss=2.27     t=50s\n",
      "Epoch 31/65     lr=7.2e-04     lwlrap=0.79385     loss=2.93     val_loss=2.14     t=50s\n",
      "Epoch 32/65     lr=7.0e-04     lwlrap=0.80254     loss=2.91     val_loss=2.08     t=51s\n",
      "Epoch 33/65     lr=6.8e-04     lwlrap=0.82031     loss=2.95     val_loss=2.03     t=51s\n",
      "Epoch 34/65     lr=6.5e-04     lwlrap=0.81929     loss=2.93     val_loss=2.02     t=51s\n",
      "Epoch 35/65     lr=6.3e-04     lwlrap=0.82256     loss=2.82     val_loss=2.01     t=50s\n",
      "Epoch 36/65     lr=6.1e-04     lwlrap=0.82071     loss=2.86     val_loss=1.95     t=50s\n",
      "Epoch 37/65     lr=5.8e-04     lwlrap=0.82696     loss=2.78     val_loss=1.86     t=51s\n",
      "Epoch 38/65     lr=5.6e-04     lwlrap=0.83216     loss=2.59     val_loss=1.93     t=51s\n",
      "Epoch 39/65     lr=5.4e-04     lwlrap=0.83329     loss=2.78     val_loss=1.89     t=50s\n",
      "Epoch 40/65     lr=5.1e-04     lwlrap=0.82690     loss=2.74     val_loss=1.91     t=51s\n",
      "Epoch 41/65     lr=4.9e-04     lwlrap=0.82497     loss=2.55     val_loss=1.96     t=50s\n",
      "Epoch 42/65     lr=4.6e-04     lwlrap=0.81964     loss=2.60     val_loss=1.95     t=50s\n",
      "Epoch 43/65     lr=4.4e-04     lwlrap=0.82881     loss=2.66     val_loss=1.94     t=50s\n",
      "Epoch 44/65     lr=4.2e-04     lwlrap=0.84151     loss=2.56     val_loss=1.82     t=51s\n",
      "Epoch 45/65     lr=3.9e-04     lwlrap=0.83742     loss=2.42     val_loss=1.82     t=50s\n",
      "Epoch 46/65     lr=3.7e-04     lwlrap=0.85139     loss=2.27     val_loss=1.72     t=50s\n",
      "Epoch 47/65     lr=3.5e-04     lwlrap=0.83361     loss=2.42     val_loss=1.89     t=50s\n",
      "Epoch 48/65     lr=3.2e-04     lwlrap=0.84908     loss=2.34     val_loss=1.76     t=50s\n",
      "Epoch 49/65     lr=3.0e-04     lwlrap=0.85275     loss=2.42     val_loss=1.72     t=50s\n",
      "Epoch 50/65     lr=2.8e-04     lwlrap=0.84569     loss=2.29     val_loss=1.75     t=51s\n",
      "Epoch 51/65     lr=2.6e-04     lwlrap=0.85379     loss=2.30     val_loss=1.72     t=50s\n",
      "Epoch 52/65     lr=2.4e-04     lwlrap=0.85505     loss=2.17     val_loss=1.66     t=50s\n",
      "Epoch 53/65     lr=2.2e-04     lwlrap=0.85766     loss=2.19     val_loss=1.72     t=50s\n",
      "Epoch 54/65     lr=2.0e-04     lwlrap=0.85389     loss=2.11     val_loss=1.71     t=50s\n",
      "Epoch 55/65     lr=1.8e-04     lwlrap=0.86408     loss=2.08     val_loss=1.64     t=50s\n",
      "Epoch 56/65     lr=1.6e-04     lwlrap=0.85847     loss=2.11     val_loss=1.68     t=50s\n",
      "Epoch 57/65     lr=1.4e-04     lwlrap=0.86186     loss=2.16     val_loss=1.64     t=50s\n",
      "Epoch 58/65     lr=1.3e-04     lwlrap=0.85690     loss=2.12     val_loss=1.71     t=50s\n",
      "Epoch 59/65     lr=1.1e-04     lwlrap=0.86328     loss=2.12     val_loss=1.62     t=50s\n",
      "Epoch 60/65     lr=9.6e-05     lwlrap=0.86328     loss=2.15     val_loss=1.64     t=50s\n",
      "Epoch 61/65     lr=8.2e-05     lwlrap=0.85629     loss=2.10     val_loss=1.72     t=50s\n",
      "Epoch 62/65     lr=6.9e-05     lwlrap=0.86327     loss=2.09     val_loss=1.63     t=50s\n",
      "Epoch 63/65     lr=5.7e-05     lwlrap=0.86837     loss=1.95     val_loss=1.61     t=50s\n",
      "Epoch 64/65     lr=4.7e-05     lwlrap=0.86044     loss=1.99     val_loss=1.64     t=50s\n",
      "Epoch 65/65     lr=3.7e-05     lwlrap=0.86022     loss=2.02     val_loss=1.63     t=50s\n",
      "\n",
      " - Re-fitting with curated data only (1/2)\n",
      "\n",
      "Epoch 1/65     lr=1.0e-04     lwlrap=0.86119     loss=1.81     val_loss=1.66     t=34s\n",
      "Epoch 2/65     lr=1.0e-04     lwlrap=0.87080     loss=1.71     val_loss=1.63     t=34s\n",
      "Epoch 3/65     lr=1.0e-04     lwlrap=0.86493     loss=1.70     val_loss=1.60     t=34s\n",
      "Epoch 4/65     lr=1.0e-04     lwlrap=0.87125     loss=1.57     val_loss=1.61     t=34s\n",
      "Epoch 5/65     lr=1.0e-04     lwlrap=0.86143     loss=1.68     val_loss=1.66     t=34s\n",
      "Epoch 6/65     lr=1.0e-04     lwlrap=0.86141     loss=1.56     val_loss=1.67     t=34s\n",
      "Epoch 7/65     lr=1.0e-04     lwlrap=0.86181     loss=1.64     val_loss=1.68     t=34s\n",
      "Epoch 8/65     lr=1.0e-05     lwlrap=0.86455     loss=1.71     val_loss=1.66     t=34s\n",
      "Epoch 9/65     lr=1.0e-05     lwlrap=0.86781     loss=1.69     val_loss=1.65     t=34s\n",
      "Epoch 10/65     lr=1.0e-05     lwlrap=0.86688     loss=1.64     val_loss=1.66     t=34s\n",
      "Epoch 11/65     lr=1.0e-05     lwlrap=0.86353     loss=1.54     val_loss=1.67     t=34s\n",
      "Epoch 12/65     lr=1.0e-06     lwlrap=0.86722     loss=1.54     val_loss=1.65     t=34s\n",
      "Epoch 13/65     lr=1.0e-06     lwlrap=0.86256     loss=1.68     val_loss=1.66     t=34s\n",
      "Epoch 14/65     lr=1.0e-06     lwlrap=0.86433     loss=1.69     val_loss=1.64     t=34s\n",
      "Epoch 15/65     lr=1.0e-06     lwlrap=0.87051     loss=1.69     val_loss=1.60     t=34s\n",
      "Epoch 16/65     lr=1.0e-07     lwlrap=0.86571     loss=1.89     val_loss=1.64     t=34s\n",
      "Loading weights from model_1.pt\n",
      "\n",
      "\n",
      " - Re-fitting with curated data only (2/2)\n",
      "\n",
      "Epoch 1/65     lr=1.0e-04     lwlrap=0.86580     loss=1.79     val_loss=1.63     t=34s\n",
      "Epoch 2/65     lr=1.0e-04     lwlrap=0.85720     loss=1.90     val_loss=1.68     t=34s\n",
      "Epoch 3/65     lr=1.0e-04     lwlrap=0.86975     loss=1.65     val_loss=1.63     t=34s\n",
      "Epoch 4/65     lr=1.0e-04     lwlrap=0.86020     loss=1.85     val_loss=1.69     t=34s\n",
      "Epoch 5/65     lr=1.0e-04     lwlrap=0.85750     loss=1.50     val_loss=1.66     t=34s\n",
      "Epoch 6/65     lr=1.0e-04     lwlrap=0.86362     loss=1.67     val_loss=1.64     t=34s\n",
      "Epoch 7/65     lr=1.0e-04     lwlrap=0.87108     loss=1.37     val_loss=1.58     t=34s\n",
      "Epoch 8/65     lr=1.0e-04     lwlrap=0.87157     loss=1.63     val_loss=1.63     t=34s\n",
      "Epoch 9/65     lr=1.0e-04     lwlrap=0.86306     loss=1.86     val_loss=1.70     t=34s\n",
      "Epoch 10/65     lr=1.0e-04     lwlrap=0.86813     loss=1.57     val_loss=1.68     t=34s\n",
      "Epoch 11/65     lr=1.0e-04     lwlrap=0.85985     loss=1.70     val_loss=1.66     t=34s\n",
      "Epoch 12/65     lr=1.0e-05     lwlrap=0.86882     loss=1.59     val_loss=1.63     t=34s\n",
      "Epoch 13/65     lr=1.0e-05     lwlrap=0.86365     loss=1.61     val_loss=1.64     t=34s\n",
      "Epoch 14/65     lr=1.0e-05     lwlrap=0.86310     loss=1.55     val_loss=1.66     t=34s\n",
      "Epoch 15/65     lr=1.0e-05     lwlrap=0.86480     loss=1.73     val_loss=1.66     t=34s\n",
      "Epoch 16/65     lr=1.0e-06     lwlrap=0.85833     loss=1.82     val_loss=1.69     t=34s\n",
      "Epoch 17/65     lr=1.0e-06     lwlrap=0.87328     loss=1.50     val_loss=1.62     t=34s\n",
      "Epoch 18/65     lr=1.0e-06     lwlrap=0.86849     loss=1.57     val_loss=1.64     t=34s\n",
      "Epoch 19/65     lr=1.0e-06     lwlrap=0.86565     loss=1.51     val_loss=1.66     t=34s\n",
      "Epoch 20/65     lr=1.0e-07     lwlrap=0.86396     loss=1.62     val_loss=1.67     t=34s\n",
      "Loading weights from model_1.pt\n",
      "\n",
      "\n",
      " - Predicting with 25 TTA \n",
      "\n",
      "\n",
      " lwlrap : Scored 0.8720 on validation data\n",
      "\n",
      "    Done in 79.2 minutes \n",
      "\n",
      "-------------   Fold 2  -------------\n",
      "\n",
      " - Fitting \n",
      "\n",
      "Epoch 1/65     lr=5.0e-05     lwlrap=0.25902     loss=55.37     val_loss=55.17     t=50s\n",
      "Epoch 2/65     lr=2.0e-04     lwlrap=0.32307     loss=52.38     val_loss=48.82     t=50s\n",
      "Epoch 3/65     lr=3.6e-04     lwlrap=0.25209     loss=34.42     val_loss=18.35     t=50s\n",
      "Epoch 4/65     lr=5.1e-04     lwlrap=0.33309     loss=10.60     val_loss=6.06     t=50s\n",
      "Epoch 5/65     lr=6.7e-04     lwlrap=0.40691     loss=5.06     val_loss=4.67     t=50s\n",
      "Epoch 6/65     lr=8.2e-04     lwlrap=0.38906     loss=4.66     val_loss=4.56     t=50s\n",
      "Epoch 7/65     lr=9.7e-04     lwlrap=0.48700     loss=4.38     val_loss=4.36     t=50s\n",
      "Epoch 8/65     lr=1.0e-03     lwlrap=0.52742     loss=4.40     val_loss=3.99     t=50s\n",
      "Epoch 9/65     lr=1.0e-03     lwlrap=0.62530     loss=4.10     val_loss=3.44     t=50s\n",
      "Epoch 10/65     lr=1.0e-03     lwlrap=0.64406     loss=4.03     val_loss=3.24     t=50s\n",
      "Epoch 11/65     lr=9.9e-04     lwlrap=0.65728     loss=3.90     val_loss=3.18     t=50s\n",
      "Epoch 12/65     lr=9.9e-04     lwlrap=0.64846     loss=3.93     val_loss=3.13     t=50s\n",
      "Epoch 13/65     lr=9.9e-04     lwlrap=0.68736     loss=3.70     val_loss=2.98     t=50s\n",
      "Epoch 14/65     lr=9.8e-04     lwlrap=0.66574     loss=3.65     val_loss=3.13     t=50s\n",
      "Epoch 15/65     lr=9.7e-04     lwlrap=0.71426     loss=3.61     val_loss=2.76     t=50s\n",
      "Epoch 16/65     lr=9.6e-04     lwlrap=0.68025     loss=3.63     val_loss=2.97     t=50s\n",
      "Epoch 17/65     lr=9.5e-04     lwlrap=0.71947     loss=3.52     val_loss=2.78     t=50s\n",
      "Epoch 18/65     lr=9.4e-04     lwlrap=0.74868     loss=3.42     val_loss=2.53     t=50s\n",
      "Epoch 19/65     lr=9.3e-04     lwlrap=0.71231     loss=3.41     val_loss=2.79     t=50s\n",
      "Epoch 20/65     lr=9.2e-04     lwlrap=0.73408     loss=3.55     val_loss=2.73     t=50s\n",
      "Epoch 21/65     lr=9.0e-04     lwlrap=0.73509     loss=3.31     val_loss=2.62     t=50s\n",
      "Epoch 22/65     lr=8.9e-04     lwlrap=0.75465     loss=3.25     val_loss=2.52     t=50s\n",
      "Epoch 23/65     lr=8.7e-04     lwlrap=0.74000     loss=3.39     val_loss=2.49     t=50s\n",
      "Epoch 24/65     lr=8.6e-04     lwlrap=0.75720     loss=3.28     val_loss=2.49     t=50s\n",
      "Epoch 25/65     lr=8.4e-04     lwlrap=0.80292     loss=3.23     val_loss=2.22     t=50s\n",
      "Epoch 26/65     lr=8.2e-04     lwlrap=0.77969     loss=3.08     val_loss=2.29     t=50s\n",
      "Epoch 27/65     lr=8.0e-04     lwlrap=0.80895     loss=3.03     val_loss=2.17     t=50s\n",
      "Epoch 28/65     lr=7.8e-04     lwlrap=0.76786     loss=3.14     val_loss=2.39     t=50s\n",
      "Epoch 29/65     lr=7.6e-04     lwlrap=0.79010     loss=3.04     val_loss=2.28     t=50s\n",
      "Epoch 30/65     lr=7.4e-04     lwlrap=0.79507     loss=3.06     val_loss=2.26     t=50s\n",
      "Epoch 31/65     lr=7.2e-04     lwlrap=0.81043     loss=2.89     val_loss=2.05     t=50s\n",
      "Epoch 32/65     lr=7.0e-04     lwlrap=0.79879     loss=3.04     val_loss=2.18     t=50s\n",
      "Epoch 33/65     lr=6.8e-04     lwlrap=0.82446     loss=2.90     val_loss=1.98     t=50s\n",
      "Epoch 34/65     lr=6.5e-04     lwlrap=0.81679     loss=2.73     val_loss=1.97     t=50s\n",
      "Epoch 35/65     lr=6.3e-04     lwlrap=0.81098     loss=2.80     val_loss=2.14     t=50s\n",
      "Epoch 36/65     lr=6.1e-04     lwlrap=0.83682     loss=2.79     val_loss=1.92     t=50s\n",
      "Epoch 37/65     lr=5.8e-04     lwlrap=0.83089     loss=2.77     val_loss=1.87     t=50s\n",
      "Epoch 38/65     lr=5.6e-04     lwlrap=0.82411     loss=2.64     val_loss=1.92     t=50s\n",
      "Epoch 39/65     lr=5.4e-04     lwlrap=0.82888     loss=2.62     val_loss=1.90     t=50s\n",
      "Epoch 40/65     lr=5.1e-04     lwlrap=0.83106     loss=2.65     val_loss=1.89     t=50s\n",
      "Epoch 41/65     lr=4.9e-04     lwlrap=0.82978     loss=2.68     val_loss=1.87     t=50s\n",
      "Epoch 42/65     lr=4.6e-04     lwlrap=0.83332     loss=2.75     val_loss=1.85     t=50s\n",
      "Epoch 43/65     lr=4.4e-04     lwlrap=0.82566     loss=2.55     val_loss=1.94     t=50s\n",
      "Epoch 44/65     lr=4.2e-04     lwlrap=0.85103     loss=2.45     val_loss=1.74     t=50s\n",
      "Epoch 45/65     lr=3.9e-04     lwlrap=0.85199     loss=2.39     val_loss=1.71     t=50s\n",
      "Epoch 46/65     lr=3.7e-04     lwlrap=0.83055     loss=2.42     val_loss=1.83     t=50s\n",
      "Epoch 47/65     lr=3.5e-04     lwlrap=0.84993     loss=2.41     val_loss=1.72     t=50s\n",
      "Epoch 48/65     lr=3.2e-04     lwlrap=0.85309     loss=2.16     val_loss=1.68     t=50s\n",
      "Epoch 49/65     lr=3.0e-04     lwlrap=0.83150     loss=2.35     val_loss=1.90     t=50s\n",
      "Epoch 50/65     lr=2.8e-04     lwlrap=0.84976     loss=2.37     val_loss=1.74     t=50s\n",
      "Epoch 51/65     lr=2.6e-04     lwlrap=0.85226     loss=2.23     val_loss=1.69     t=50s\n",
      "Epoch 52/65     lr=2.4e-04     lwlrap=0.85748     loss=2.32     val_loss=1.64     t=50s\n",
      "Epoch 53/65     lr=2.2e-04     lwlrap=0.86178     loss=2.19     val_loss=1.63     t=50s\n",
      "Epoch 54/65     lr=2.0e-04     lwlrap=0.85680     loss=2.24     val_loss=1.66     t=50s\n",
      "Epoch 55/65     lr=1.8e-04     lwlrap=0.86760     loss=2.22     val_loss=1.58     t=50s\n",
      "Epoch 56/65     lr=1.6e-04     lwlrap=0.86286     loss=2.23     val_loss=1.59     t=50s\n",
      "Epoch 57/65     lr=1.4e-04     lwlrap=0.86606     loss=1.92     val_loss=1.60     t=50s\n",
      "Epoch 58/65     lr=1.3e-04     lwlrap=0.86971     loss=2.10     val_loss=1.57     t=50s\n",
      "Epoch 59/65     lr=1.1e-04     lwlrap=0.86235     loss=2.11     val_loss=1.60     t=50s\n",
      "Epoch 60/65     lr=9.6e-05     lwlrap=0.86598     loss=2.01     val_loss=1.57     t=50s\n",
      "Epoch 61/65     lr=8.2e-05     lwlrap=0.86078     loss=1.91     val_loss=1.59     t=50s\n",
      "Epoch 62/65     lr=6.9e-05     lwlrap=0.86622     loss=2.07     val_loss=1.59     t=50s\n",
      "Epoch 63/65     lr=5.7e-05     lwlrap=0.86156     loss=2.20     val_loss=1.58     t=50s\n",
      "Epoch 64/65     lr=4.7e-05     lwlrap=0.86164     loss=2.06     val_loss=1.59     t=50s\n",
      "Epoch 65/65     lr=3.7e-05     lwlrap=0.87069     loss=2.04     val_loss=1.55     t=50s\n",
      "\n",
      " - Re-fitting with curated data only (1/2)\n",
      "\n",
      "Epoch 1/65     lr=1.0e-04     lwlrap=0.86663     loss=1.89     val_loss=1.66     t=34s\n",
      "Epoch 2/65     lr=1.0e-04     lwlrap=0.86828     loss=1.80     val_loss=1.63     t=34s\n",
      "Epoch 3/65     lr=1.0e-04     lwlrap=0.86489     loss=1.68     val_loss=1.62     t=34s\n",
      "Epoch 4/65     lr=1.0e-04     lwlrap=0.86348     loss=1.61     val_loss=1.62     t=34s\n",
      "Epoch 5/65     lr=1.0e-04     lwlrap=0.86184     loss=1.66     val_loss=1.66     t=34s\n",
      "Epoch 6/65     lr=1.0e-04     lwlrap=0.86053     loss=1.73     val_loss=1.63     t=34s\n",
      "Epoch 7/65     lr=1.0e-04     lwlrap=0.86825     loss=1.82     val_loss=1.64     t=34s\n",
      "Epoch 8/65     lr=1.0e-04     lwlrap=0.86474     loss=1.60     val_loss=1.58     t=34s\n",
      "Epoch 9/65     lr=1.0e-04     lwlrap=0.85932     loss=2.03     val_loss=1.69     t=34s\n",
      "Epoch 10/65     lr=1.0e-04     lwlrap=0.86314     loss=1.70     val_loss=1.66     t=34s\n",
      "Epoch 11/65     lr=1.0e-04     lwlrap=0.86507     loss=1.48     val_loss=1.63     t=34s\n",
      "Epoch 12/65     lr=1.0e-04     lwlrap=0.85898     loss=1.68     val_loss=1.60     t=34s\n",
      "Epoch 13/65     lr=1.0e-05     lwlrap=0.86231     loss=1.74     val_loss=1.63     t=34s\n",
      "Epoch 14/65     lr=1.0e-05     lwlrap=0.86461     loss=1.56     val_loss=1.60     t=34s\n",
      "Epoch 15/65     lr=1.0e-05     lwlrap=0.86098     loss=1.62     val_loss=1.64     t=34s\n",
      "Epoch 16/65     lr=1.0e-05     lwlrap=0.86423     loss=1.71     val_loss=1.62     t=34s\n",
      "Epoch 17/65     lr=1.0e-06     lwlrap=0.86734     loss=1.71     val_loss=1.60     t=34s\n",
      "Epoch 18/65     lr=1.0e-06     lwlrap=0.86453     loss=1.60     val_loss=1.63     t=34s\n",
      "Epoch 19/65     lr=1.0e-06     lwlrap=0.86644     loss=1.60     val_loss=1.60     t=34s\n",
      "Epoch 20/65     lr=1.0e-06     lwlrap=0.86256     loss=1.87     val_loss=1.62     t=34s\n",
      "Epoch 21/65     lr=1.0e-07     lwlrap=0.86764     loss=1.49     val_loss=1.60     t=34s\n",
      "Loading weights from model_2.pt\n",
      "\n",
      "\n",
      " - Re-fitting with curated data only (2/2)\n",
      "\n",
      "Epoch 1/65     lr=1.0e-04     lwlrap=0.86222     loss=1.44     val_loss=1.60     t=34s\n",
      "Epoch 2/65     lr=1.0e-04     lwlrap=0.85909     loss=1.77     val_loss=1.65     t=34s\n",
      "Epoch 3/65     lr=1.0e-04     lwlrap=0.85946     loss=1.73     val_loss=1.70     t=34s\n",
      "Epoch 4/65     lr=1.0e-04     lwlrap=0.86801     loss=1.85     val_loss=1.60     t=34s\n",
      "Epoch 5/65     lr=1.0e-04     lwlrap=0.86079     loss=1.68     val_loss=1.63     t=34s\n",
      "Epoch 6/65     lr=1.0e-05     lwlrap=0.85941     loss=1.58     val_loss=1.65     t=34s\n",
      "Epoch 7/65     lr=1.0e-05     lwlrap=0.86306     loss=1.48     val_loss=1.59     t=34s\n",
      "Epoch 8/65     lr=1.0e-05     lwlrap=0.86403     loss=1.71     val_loss=1.62     t=34s\n",
      "Epoch 9/65     lr=1.0e-05     lwlrap=0.86150     loss=1.60     val_loss=1.62     t=34s\n",
      "Epoch 10/65     lr=1.0e-05     lwlrap=0.86144     loss=1.48     val_loss=1.59     t=34s\n",
      "Epoch 11/65     lr=1.0e-05     lwlrap=0.86447     loss=1.66     val_loss=1.63     t=34s\n",
      "Epoch 12/65     lr=1.0e-05     lwlrap=0.86403     loss=1.72     val_loss=1.63     t=34s\n",
      "Epoch 13/65     lr=1.0e-05     lwlrap=0.86341     loss=1.71     val_loss=1.64     t=34s\n",
      "Epoch 14/65     lr=1.0e-05     lwlrap=0.86714     loss=1.67     val_loss=1.60     t=34s\n",
      "Epoch 15/65     lr=1.0e-06     lwlrap=0.86530     loss=1.47     val_loss=1.60     t=34s\n",
      "Epoch 16/65     lr=1.0e-06     lwlrap=0.86637     loss=1.69     val_loss=1.62     t=34s\n",
      "Epoch 17/65     lr=1.0e-06     lwlrap=0.86267     loss=1.68     val_loss=1.65     t=34s\n",
      "Epoch 18/65     lr=1.0e-06     lwlrap=0.86653     loss=1.80     val_loss=1.62     t=34s\n",
      "Epoch 19/65     lr=1.0e-07     lwlrap=0.86404     loss=1.66     val_loss=1.62     t=34s\n",
      "Loading weights from model_2.pt\n",
      "\n",
      "\n",
      " - Predicting with 25 TTA \n",
      "\n",
      "\n",
      " lwlrap : Scored 0.8733 on validation data\n",
      "\n",
      "    Done in 81.1 minutes \n",
      "\n",
      "-------------   Fold 3  -------------\n",
      "\n",
      " - Fitting \n",
      "\n",
      "Epoch 1/65     lr=5.0e-05     lwlrap=0.24414     loss=55.44     val_loss=55.32     t=50s\n",
      "Epoch 2/65     lr=2.0e-04     lwlrap=0.30122     loss=52.45     val_loss=47.40     t=50s\n",
      "Epoch 3/65     lr=3.6e-04     lwlrap=0.27746     loss=34.35     val_loss=21.69     t=50s\n",
      "Epoch 4/65     lr=5.1e-04     lwlrap=0.35608     loss=10.50     val_loss=5.62     t=50s\n",
      "Epoch 5/65     lr=6.7e-04     lwlrap=0.36117     loss=5.11     val_loss=5.15     t=50s\n",
      "Epoch 6/65     lr=8.2e-04     lwlrap=0.42873     loss=4.66     val_loss=4.71     t=50s\n",
      "Epoch 7/65     lr=9.7e-04     lwlrap=0.53984     loss=4.51     val_loss=3.84     t=50s\n",
      "Epoch 8/65     lr=1.0e-03     lwlrap=0.46399     loss=4.30     val_loss=4.12     t=50s\n",
      "Epoch 9/65     lr=1.0e-03     lwlrap=0.57711     loss=4.20     val_loss=3.63     t=50s\n",
      "Epoch 10/65     lr=1.0e-03     lwlrap=0.53918     loss=3.95     val_loss=3.81     t=50s\n",
      "Epoch 11/65     lr=9.9e-04     lwlrap=0.61374     loss=4.00     val_loss=3.40     t=50s\n",
      "Epoch 12/65     lr=9.9e-04     lwlrap=0.56248     loss=3.86     val_loss=3.63     t=50s\n",
      "Epoch 13/65     lr=9.9e-04     lwlrap=0.69307     loss=3.69     val_loss=2.90     t=50s\n",
      "Epoch 14/65     lr=9.8e-04     lwlrap=0.72925     loss=3.73     val_loss=2.77     t=50s\n",
      "Epoch 15/65     lr=9.7e-04     lwlrap=0.69479     loss=3.73     val_loss=2.92     t=50s\n",
      "Epoch 16/65     lr=9.6e-04     lwlrap=0.69144     loss=3.63     val_loss=2.95     t=50s\n",
      "Epoch 17/65     lr=9.5e-04     lwlrap=0.66020     loss=3.49     val_loss=3.14     t=50s\n",
      "Epoch 18/65     lr=9.4e-04     lwlrap=0.71340     loss=3.61     val_loss=2.81     t=50s\n",
      "Epoch 19/65     lr=9.3e-04     lwlrap=0.72814     loss=3.39     val_loss=2.66     t=50s\n",
      "Epoch 20/65     lr=9.2e-04     lwlrap=0.71464     loss=3.40     val_loss=2.79     t=50s\n",
      "Epoch 21/65     lr=9.0e-04     lwlrap=0.73708     loss=3.38     val_loss=2.64     t=50s\n",
      "Epoch 22/65     lr=8.9e-04     lwlrap=0.78120     loss=3.20     val_loss=2.41     t=50s\n",
      "Epoch 23/65     lr=8.7e-04     lwlrap=0.74806     loss=3.23     val_loss=2.52     t=50s\n",
      "Epoch 24/65     lr=8.6e-04     lwlrap=0.75222     loss=3.29     val_loss=2.50     t=50s\n",
      "Epoch 25/65     lr=8.4e-04     lwlrap=0.73320     loss=3.18     val_loss=2.63     t=50s\n",
      "Epoch 26/65     lr=8.2e-04     lwlrap=0.77417     loss=3.21     val_loss=2.33     t=50s\n",
      "Epoch 27/65     lr=8.0e-04     lwlrap=0.79568     loss=3.09     val_loss=2.23     t=50s\n",
      "Epoch 28/65     lr=7.8e-04     lwlrap=0.74394     loss=3.08     val_loss=2.56     t=50s\n",
      "Epoch 29/65     lr=7.6e-04     lwlrap=0.80027     loss=3.17     val_loss=2.15     t=50s\n",
      "Epoch 30/65     lr=7.4e-04     lwlrap=0.79424     loss=2.97     val_loss=2.22     t=50s\n",
      "Epoch 31/65     lr=7.2e-04     lwlrap=0.80583     loss=2.95     val_loss=2.13     t=50s\n",
      "Epoch 32/65     lr=7.0e-04     lwlrap=0.79787     loss=3.06     val_loss=2.25     t=50s\n",
      "Epoch 33/65     lr=6.8e-04     lwlrap=0.80842     loss=2.92     val_loss=2.12     t=50s\n",
      "Epoch 34/65     lr=6.5e-04     lwlrap=0.79978     loss=2.72     val_loss=2.19     t=50s\n",
      "Epoch 35/65     lr=6.3e-04     lwlrap=0.80208     loss=2.93     val_loss=2.15     t=50s\n",
      "Epoch 36/65     lr=6.1e-04     lwlrap=0.80972     loss=2.73     val_loss=2.07     t=50s\n",
      "Epoch 37/65     lr=5.8e-04     lwlrap=0.82559     loss=2.95     val_loss=1.99     t=50s\n",
      "Epoch 38/65     lr=5.6e-04     lwlrap=0.82783     loss=2.75     val_loss=1.90     t=50s\n",
      "Epoch 39/65     lr=5.4e-04     lwlrap=0.82657     loss=2.79     val_loss=1.94     t=50s\n",
      "Epoch 40/65     lr=5.1e-04     lwlrap=0.83205     loss=2.69     val_loss=1.91     t=50s\n",
      "Epoch 41/65     lr=4.9e-04     lwlrap=0.83138     loss=2.64     val_loss=1.92     t=50s\n",
      "Epoch 42/65     lr=4.6e-04     lwlrap=0.83177     loss=2.48     val_loss=1.95     t=50s\n",
      "Epoch 43/65     lr=4.4e-04     lwlrap=0.83187     loss=2.53     val_loss=1.90     t=50s\n",
      "Epoch 44/65     lr=4.2e-04     lwlrap=0.84055     loss=2.56     val_loss=1.81     t=50s\n",
      "Epoch 45/65     lr=3.9e-04     lwlrap=0.83422     loss=2.58     val_loss=1.88     t=50s\n",
      "Epoch 46/65     lr=3.7e-04     lwlrap=0.84742     loss=2.46     val_loss=1.77     t=50s\n",
      "Epoch 47/65     lr=3.5e-04     lwlrap=0.84145     loss=2.29     val_loss=1.80     t=50s\n",
      "Epoch 48/65     lr=3.2e-04     lwlrap=0.85495     loss=2.43     val_loss=1.70     t=50s\n",
      "Epoch 49/65     lr=3.0e-04     lwlrap=0.84674     loss=2.39     val_loss=1.75     t=50s\n",
      "Epoch 50/65     lr=2.8e-04     lwlrap=0.85250     loss=2.14     val_loss=1.67     t=50s\n",
      "Epoch 51/65     lr=2.6e-04     lwlrap=0.84839     loss=2.42     val_loss=1.70     t=50s\n",
      "Epoch 52/65     lr=2.4e-04     lwlrap=0.84246     loss=2.26     val_loss=1.72     t=50s\n",
      "Epoch 53/65     lr=2.2e-04     lwlrap=0.84758     loss=2.17     val_loss=1.73     t=50s\n",
      "Epoch 54/65     lr=2.0e-04     lwlrap=0.85836     loss=2.10     val_loss=1.68     t=50s\n",
      "Epoch 55/65     lr=1.8e-04     lwlrap=0.85988     loss=2.25     val_loss=1.62     t=50s\n",
      "Epoch 56/65     lr=1.6e-04     lwlrap=0.86222     loss=2.20     val_loss=1.66     t=50s\n",
      "Epoch 57/65     lr=1.4e-04     lwlrap=0.86285     loss=2.17     val_loss=1.64     t=50s\n",
      "Epoch 58/65     lr=1.3e-04     lwlrap=0.85746     loss=2.18     val_loss=1.63     t=50s\n",
      "Epoch 59/65     lr=1.1e-04     lwlrap=0.86874     loss=1.87     val_loss=1.59     t=50s\n",
      "Epoch 60/65     lr=9.6e-05     lwlrap=0.86401     loss=2.15     val_loss=1.59     t=50s\n",
      "Epoch 61/65     lr=8.2e-05     lwlrap=0.86070     loss=2.03     val_loss=1.61     t=50s\n",
      "Epoch 62/65     lr=6.9e-05     lwlrap=0.85960     loss=2.10     val_loss=1.64     t=50s\n",
      "Epoch 63/65     lr=5.7e-05     lwlrap=0.86222     loss=2.00     val_loss=1.60     t=50s\n",
      "Epoch 64/65     lr=4.7e-05     lwlrap=0.86746     loss=1.96     val_loss=1.56     t=50s\n",
      "Epoch 65/65     lr=3.7e-05     lwlrap=0.86102     loss=2.04     val_loss=1.65     t=50s\n",
      "\n",
      " - Re-fitting with curated data only (1/2)\n",
      "\n",
      "Epoch 1/65     lr=1.0e-04     lwlrap=0.85773     loss=1.65     val_loss=1.70     t=34s\n",
      "Epoch 2/65     lr=1.0e-04     lwlrap=0.86105     loss=1.70     val_loss=1.66     t=34s\n",
      "Epoch 3/65     lr=1.0e-04     lwlrap=0.86759     loss=1.65     val_loss=1.62     t=34s\n",
      "Epoch 4/65     lr=1.0e-04     lwlrap=0.86566     loss=1.71     val_loss=1.61     t=34s\n",
      "Epoch 5/65     lr=1.0e-04     lwlrap=0.86776     loss=1.70     val_loss=1.61     t=34s\n",
      "Epoch 6/65     lr=1.0e-04     lwlrap=0.86389     loss=1.62     val_loss=1.66     t=34s\n",
      "Epoch 7/65     lr=1.0e-04     lwlrap=0.86537     loss=1.59     val_loss=1.63     t=34s\n",
      "Epoch 8/65     lr=1.0e-04     lwlrap=0.85872     loss=2.01     val_loss=1.62     t=34s\n",
      "Epoch 9/65     lr=1.0e-04     lwlrap=0.86514     loss=1.93     val_loss=1.67     t=34s\n",
      "Epoch 10/65     lr=1.0e-05     lwlrap=0.86215     loss=1.88     val_loss=1.70     t=34s\n",
      "Epoch 11/65     lr=1.0e-05     lwlrap=0.86664     loss=1.60     val_loss=1.61     t=34s\n",
      "Epoch 12/65     lr=1.0e-05     lwlrap=0.86899     loss=1.58     val_loss=1.62     t=34s\n",
      "Epoch 13/65     lr=1.0e-05     lwlrap=0.86687     loss=1.68     val_loss=1.63     t=34s\n",
      "Epoch 14/65     lr=1.0e-06     lwlrap=0.86990     loss=1.61     val_loss=1.59     t=34s\n",
      "Epoch 15/65     lr=1.0e-06     lwlrap=0.86878     loss=1.60     val_loss=1.61     t=34s\n",
      "Epoch 16/65     lr=1.0e-06     lwlrap=0.86478     loss=1.40     val_loss=1.60     t=34s\n",
      "Epoch 17/65     lr=1.0e-06     lwlrap=0.86378     loss=1.35     val_loss=1.59     t=34s\n",
      "Epoch 18/65     lr=1.0e-06     lwlrap=0.86469     loss=1.50     val_loss=1.63     t=34s\n",
      "Epoch 19/65     lr=1.0e-07     lwlrap=0.87557     loss=1.50     val_loss=1.58     t=34s\n",
      "Loading weights from model_3.pt\n",
      "\n",
      "\n",
      " - Re-fitting with curated data only (2/2)\n",
      "\n",
      "Epoch 1/65     lr=1.0e-04     lwlrap=0.86746     loss=1.58     val_loss=1.58     t=34s\n",
      "Epoch 2/65     lr=1.0e-04     lwlrap=0.86260     loss=1.87     val_loss=1.64     t=34s\n",
      "Epoch 3/65     lr=1.0e-04     lwlrap=0.86753     loss=1.76     val_loss=1.62     t=34s\n",
      "Epoch 4/65     lr=1.0e-04     lwlrap=0.85922     loss=1.76     val_loss=1.72     t=34s\n",
      "Epoch 5/65     lr=1.0e-04     lwlrap=0.86343     loss=1.67     val_loss=1.63     t=34s\n",
      "Epoch 6/65     lr=1.0e-05     lwlrap=0.86529     loss=1.55     val_loss=1.63     t=34s\n",
      "Epoch 7/65     lr=1.0e-05     lwlrap=0.87115     loss=1.62     val_loss=1.56     t=34s\n",
      "Epoch 8/65     lr=1.0e-05     lwlrap=0.86554     loss=1.43     val_loss=1.64     t=34s\n",
      "Epoch 9/65     lr=1.0e-05     lwlrap=0.86417     loss=1.53     val_loss=1.61     t=34s\n",
      "Epoch 10/65     lr=1.0e-05     lwlrap=0.86943     loss=1.85     val_loss=1.64     t=34s\n",
      "Epoch 11/65     lr=1.0e-05     lwlrap=0.87077     loss=1.56     val_loss=1.60     t=34s\n",
      "Epoch 12/65     lr=1.0e-06     lwlrap=0.86846     loss=1.49     val_loss=1.61     t=34s\n",
      "Epoch 13/65     lr=1.0e-06     lwlrap=0.86334     loss=1.58     val_loss=1.64     t=34s\n",
      "Epoch 14/65     lr=1.0e-06     lwlrap=0.86422     loss=1.68     val_loss=1.62     t=34s\n",
      "Epoch 15/65     lr=1.0e-06     lwlrap=0.86728     loss=1.60     val_loss=1.63     t=34s\n",
      "Epoch 16/65     lr=1.0e-07     lwlrap=0.86321     loss=1.45     val_loss=1.64     t=34s\n",
      "Loading weights from model_3.pt\n",
      "\n",
      "\n",
      " - Predicting with 25 TTA \n",
      "\n",
      "\n",
      " lwlrap : Scored 0.8722 on validation data\n",
      "\n",
      "    Done in 78.0 minutes \n",
      "\n",
      "-------------   Fold 4  -------------\n",
      "\n",
      " - Fitting \n",
      "\n",
      "Epoch 1/65     lr=5.0e-05     lwlrap=0.29778     loss=55.13     val_loss=54.73     t=50s\n",
      "Epoch 2/65     lr=2.0e-04     lwlrap=0.31540     loss=52.07     val_loss=47.28     t=50s\n",
      "Epoch 3/65     lr=3.6e-04     lwlrap=0.34737     loss=33.77     val_loss=19.99     t=50s\n",
      "Epoch 4/65     lr=5.1e-04     lwlrap=0.35495     loss=10.24     val_loss=5.97     t=50s\n",
      "Epoch 5/65     lr=6.7e-04     lwlrap=0.42731     loss=5.06     val_loss=4.36     t=50s\n",
      "Epoch 6/65     lr=8.2e-04     lwlrap=0.40044     loss=4.62     val_loss=4.49     t=50s\n",
      "Epoch 7/65     lr=9.7e-04     lwlrap=0.52729     loss=4.48     val_loss=3.93     t=50s\n",
      "Epoch 8/65     lr=1.0e-03     lwlrap=0.55094     loss=4.28     val_loss=3.75     t=50s\n",
      "Epoch 9/65     lr=1.0e-03     lwlrap=0.50160     loss=4.12     val_loss=4.12     t=50s\n",
      "Epoch 10/65     lr=1.0e-03     lwlrap=0.64308     loss=3.95     val_loss=3.25     t=50s\n",
      "Epoch 11/65     lr=9.9e-04     lwlrap=0.61630     loss=3.76     val_loss=3.34     t=50s\n",
      "Epoch 12/65     lr=9.9e-04     lwlrap=0.64073     loss=3.78     val_loss=3.21     t=50s\n",
      "Epoch 13/65     lr=9.9e-04     lwlrap=0.67801     loss=3.68     val_loss=2.93     t=50s\n",
      "Epoch 14/65     lr=9.8e-04     lwlrap=0.69722     loss=3.62     val_loss=2.85     t=50s\n",
      "Epoch 15/65     lr=9.7e-04     lwlrap=0.73045     loss=3.52     val_loss=2.69     t=50s\n",
      "Epoch 16/65     lr=9.6e-04     lwlrap=0.70490     loss=3.63     val_loss=2.77     t=50s\n",
      "Epoch 17/65     lr=9.5e-04     lwlrap=0.75872     loss=3.37     val_loss=2.47     t=50s\n",
      "Epoch 18/65     lr=9.4e-04     lwlrap=0.72439     loss=3.49     val_loss=2.72     t=50s\n",
      "Epoch 19/65     lr=9.3e-04     lwlrap=0.76779     loss=3.50     val_loss=2.47     t=50s\n",
      "Epoch 20/65     lr=9.2e-04     lwlrap=0.74829     loss=3.34     val_loss=2.57     t=50s\n",
      "Epoch 21/65     lr=9.0e-04     lwlrap=0.73985     loss=3.43     val_loss=2.63     t=50s\n",
      "Epoch 22/65     lr=8.9e-04     lwlrap=0.77689     loss=3.30     val_loss=2.33     t=50s\n",
      "Epoch 23/65     lr=8.7e-04     lwlrap=0.78717     loss=3.30     val_loss=2.31     t=50s\n",
      "Epoch 24/65     lr=8.6e-04     lwlrap=0.75625     loss=3.15     val_loss=2.49     t=50s\n",
      "Epoch 25/65     lr=8.4e-04     lwlrap=0.76155     loss=3.25     val_loss=2.47     t=50s\n",
      "Epoch 26/65     lr=8.2e-04     lwlrap=0.76212     loss=3.10     val_loss=2.34     t=50s\n",
      "Epoch 27/65     lr=8.0e-04     lwlrap=0.80013     loss=3.08     val_loss=2.14     t=50s\n",
      "Epoch 28/65     lr=7.8e-04     lwlrap=0.78997     loss=3.10     val_loss=2.26     t=50s\n",
      "Epoch 29/65     lr=7.6e-04     lwlrap=0.80464     loss=3.08     val_loss=2.15     t=50s\n",
      "Epoch 30/65     lr=7.4e-04     lwlrap=0.77194     loss=3.07     val_loss=2.36     t=50s\n",
      "Epoch 31/65     lr=7.2e-04     lwlrap=0.81336     loss=3.07     val_loss=2.11     t=50s\n",
      "Epoch 32/65     lr=7.0e-04     lwlrap=0.80988     loss=2.96     val_loss=2.05     t=50s\n",
      "Epoch 33/65     lr=6.8e-04     lwlrap=0.82385     loss=2.99     val_loss=2.00     t=50s\n",
      "Epoch 34/65     lr=6.5e-04     lwlrap=0.80126     loss=2.86     val_loss=2.12     t=50s\n",
      "Epoch 35/65     lr=6.3e-04     lwlrap=0.80687     loss=2.74     val_loss=2.12     t=50s\n",
      "Epoch 36/65     lr=6.1e-04     lwlrap=0.81401     loss=2.74     val_loss=2.10     t=50s\n",
      "Epoch 37/65     lr=5.8e-04     lwlrap=0.81070     loss=2.61     val_loss=2.06     t=50s\n",
      "Epoch 38/65     lr=5.6e-04     lwlrap=0.82920     loss=2.83     val_loss=1.90     t=50s\n",
      "Epoch 39/65     lr=5.4e-04     lwlrap=0.82754     loss=2.71     val_loss=1.91     t=50s\n",
      "Epoch 40/65     lr=5.1e-04     lwlrap=0.84746     loss=2.67     val_loss=1.73     t=50s\n",
      "Epoch 41/65     lr=4.9e-04     lwlrap=0.83863     loss=2.54     val_loss=1.81     t=50s\n",
      "Epoch 42/65     lr=4.6e-04     lwlrap=0.84833     loss=2.69     val_loss=1.79     t=50s\n",
      "Epoch 43/65     lr=4.4e-04     lwlrap=0.84437     loss=2.55     val_loss=1.77     t=50s\n",
      "Epoch 44/65     lr=4.2e-04     lwlrap=0.84532     loss=2.72     val_loss=1.76     t=50s\n",
      "Epoch 45/65     lr=3.9e-04     lwlrap=0.82494     loss=2.59     val_loss=1.96     t=50s\n",
      "Epoch 46/65     lr=3.7e-04     lwlrap=0.85755     loss=2.41     val_loss=1.74     t=50s\n",
      "Epoch 47/65     lr=3.5e-04     lwlrap=0.85326     loss=2.56     val_loss=1.71     t=50s\n",
      "Epoch 48/65     lr=3.2e-04     lwlrap=0.85765     loss=2.30     val_loss=1.67     t=50s\n",
      "Epoch 49/65     lr=3.0e-04     lwlrap=0.85991     loss=2.40     val_loss=1.67     t=50s\n",
      "Epoch 50/65     lr=2.8e-04     lwlrap=0.85265     loss=2.56     val_loss=1.67     t=50s\n",
      "Epoch 51/65     lr=2.6e-04     lwlrap=0.85622     loss=2.28     val_loss=1.68     t=50s\n",
      "Epoch 52/65     lr=2.4e-04     lwlrap=0.85404     loss=2.36     val_loss=1.70     t=50s\n",
      "Epoch 53/65     lr=2.2e-04     lwlrap=0.87021     loss=2.22     val_loss=1.60     t=50s\n",
      "Epoch 54/65     lr=2.0e-04     lwlrap=0.86594     loss=2.19     val_loss=1.62     t=50s\n",
      "Epoch 55/65     lr=1.8e-04     lwlrap=0.86740     loss=2.14     val_loss=1.56     t=50s\n",
      "Epoch 56/65     lr=1.6e-04     lwlrap=0.86882     loss=2.16     val_loss=1.56     t=50s\n",
      "Epoch 57/65     lr=1.4e-04     lwlrap=0.86947     loss=2.00     val_loss=1.55     t=50s\n",
      "Epoch 58/65     lr=1.3e-04     lwlrap=0.86948     loss=2.19     val_loss=1.56     t=50s\n",
      "Epoch 59/65     lr=1.1e-04     lwlrap=0.87085     loss=2.00     val_loss=1.55     t=50s\n",
      "Epoch 60/65     lr=9.6e-05     lwlrap=0.87223     loss=2.21     val_loss=1.56     t=50s\n",
      "Epoch 61/65     lr=8.2e-05     lwlrap=0.87082     loss=2.07     val_loss=1.55     t=50s\n",
      "Epoch 62/65     lr=6.9e-05     lwlrap=0.86583     loss=2.05     val_loss=1.54     t=50s\n",
      "Epoch 63/65     lr=5.7e-05     lwlrap=0.86745     loss=2.05     val_loss=1.59     t=50s\n",
      "Epoch 64/65     lr=4.7e-05     lwlrap=0.86983     loss=2.00     val_loss=1.54     t=50s\n",
      "Epoch 65/65     lr=3.7e-05     lwlrap=0.86802     loss=2.05     val_loss=1.60     t=50s\n",
      "\n",
      " - Re-fitting with curated data only (1/2)\n",
      "\n",
      "Epoch 1/65     lr=1.0e-04     lwlrap=0.87000     loss=1.69     val_loss=1.58     t=34s\n",
      "Epoch 2/65     lr=1.0e-04     lwlrap=0.86720     loss=1.75     val_loss=1.60     t=34s\n",
      "Epoch 3/65     lr=1.0e-04     lwlrap=0.86865     loss=1.63     val_loss=1.58     t=34s\n",
      "Epoch 4/65     lr=1.0e-04     lwlrap=0.86356     loss=1.75     val_loss=1.64     t=34s\n",
      "Epoch 5/65     lr=1.0e-04     lwlrap=0.86371     loss=1.85     val_loss=1.61     t=34s\n",
      "Epoch 6/65     lr=1.0e-05     lwlrap=0.86565     loss=1.59     val_loss=1.60     t=34s\n",
      "Epoch 7/65     lr=1.0e-05     lwlrap=0.86302     loss=1.68     val_loss=1.61     t=34s\n",
      "Epoch 8/65     lr=1.0e-05     lwlrap=0.87480     loss=1.79     val_loss=1.56     t=34s\n",
      "Epoch 9/65     lr=1.0e-05     lwlrap=0.86982     loss=1.48     val_loss=1.57     t=34s\n",
      "Epoch 10/65     lr=1.0e-05     lwlrap=0.86446     loss=1.49     val_loss=1.60     t=34s\n",
      "Epoch 11/65     lr=1.0e-05     lwlrap=0.86673     loss=1.79     val_loss=1.64     t=34s\n",
      "Epoch 12/65     lr=1.0e-05     lwlrap=0.86619     loss=1.62     val_loss=1.60     t=34s\n",
      "Epoch 13/65     lr=1.0e-06     lwlrap=0.86983     loss=1.47     val_loss=1.56     t=34s\n",
      "Epoch 14/65     lr=1.0e-06     lwlrap=0.86619     loss=1.64     val_loss=1.60     t=34s\n",
      "Epoch 15/65     lr=1.0e-06     lwlrap=0.86529     loss=1.96     val_loss=1.65     t=34s\n",
      "Epoch 16/65     lr=1.0e-06     lwlrap=0.86539     loss=1.48     val_loss=1.58     t=34s\n",
      "Epoch 17/65     lr=1.0e-06     lwlrap=0.85853     loss=1.97     val_loss=1.66     t=34s\n",
      "Epoch 18/65     lr=1.0e-07     lwlrap=0.86285     loss=1.57     val_loss=1.62     t=34s\n",
      "Loading weights from model_4.pt\n",
      "\n",
      "\n",
      " - Re-fitting with curated data only (2/2)\n",
      "\n",
      "Epoch 1/65     lr=1.0e-04     lwlrap=0.86174     loss=1.67     val_loss=1.63     t=34s\n",
      "Epoch 2/65     lr=1.0e-04     lwlrap=0.87102     loss=1.48     val_loss=1.59     t=34s\n",
      "Epoch 3/65     lr=1.0e-04     lwlrap=0.87003     loss=1.57     val_loss=1.60     t=34s\n",
      "Epoch 4/65     lr=1.0e-04     lwlrap=0.86408     loss=1.66     val_loss=1.66     t=34s\n",
      "Epoch 5/65     lr=1.0e-04     lwlrap=0.86615     loss=1.71     val_loss=1.65     t=34s\n",
      "Epoch 6/65     lr=1.0e-04     lwlrap=0.87117     loss=1.73     val_loss=1.63     t=34s\n",
      "Epoch 7/65     lr=1.0e-05     lwlrap=0.87320     loss=1.60     val_loss=1.60     t=34s\n",
      "Epoch 8/65     lr=1.0e-05     lwlrap=0.86905     loss=1.50     val_loss=1.65     t=34s\n",
      "Epoch 9/65     lr=1.0e-05     lwlrap=0.86685     loss=1.75     val_loss=1.66     t=34s\n",
      "Epoch 10/65     lr=1.0e-05     lwlrap=0.87011     loss=1.52     val_loss=1.61     t=34s\n",
      "Epoch 11/65     lr=1.0e-06     lwlrap=0.87083     loss=1.52     val_loss=1.62     t=34s\n",
      "Epoch 12/65     lr=1.0e-06     lwlrap=0.87009     loss=1.67     val_loss=1.64     t=34s\n",
      "Epoch 13/65     lr=1.0e-06     lwlrap=0.87265     loss=1.39     val_loss=1.57     t=34s\n",
      "Epoch 14/65     lr=1.0e-06     lwlrap=0.86978     loss=1.36     val_loss=1.58     t=34s\n",
      "Epoch 15/65     lr=1.0e-06     lwlrap=0.86828     loss=1.52     val_loss=1.64     t=34s\n",
      "Epoch 16/65     lr=1.0e-06     lwlrap=0.87776     loss=1.54     val_loss=1.58     t=34s\n",
      "Epoch 17/65     lr=1.0e-06     lwlrap=0.86879     loss=1.66     val_loss=1.62     t=34s\n",
      "Epoch 18/65     lr=1.0e-07     lwlrap=0.87019     loss=1.40     val_loss=1.60     t=34s\n",
      "Loading weights from model_4.pt\n",
      "\n",
      "\n",
      " - Predicting with 25 TTA \n",
      "\n",
      "\n",
      " lwlrap : Scored 0.8784 on validation data\n",
      "\n",
      "    Done in 78.8 minutes \n",
      "\n",
      "-------------   Fold 5  -------------\n",
      "\n",
      " - Fitting \n",
      "\n",
      "Epoch 1/65     lr=5.0e-05     lwlrap=0.25448     loss=55.14     val_loss=54.92     t=50s\n",
      "Epoch 2/65     lr=2.0e-04     lwlrap=0.30980     loss=52.22     val_loss=47.82     t=50s\n",
      "Epoch 3/65     lr=3.6e-04     lwlrap=0.27796     loss=34.42     val_loss=21.34     t=50s\n",
      "Epoch 4/65     lr=5.1e-04     lwlrap=0.32000     loss=10.62     val_loss=5.56     t=50s\n",
      "Epoch 5/65     lr=6.7e-04     lwlrap=0.33746     loss=5.05     val_loss=4.93     t=50s\n",
      "Epoch 6/65     lr=8.2e-04     lwlrap=0.47756     loss=4.68     val_loss=4.30     t=50s\n",
      "Epoch 7/65     lr=9.7e-04     lwlrap=0.51861     loss=4.43     val_loss=4.03     t=50s\n",
      "Epoch 8/65     lr=1.0e-03     lwlrap=0.44956     loss=4.23     val_loss=4.27     t=50s\n",
      "Epoch 9/65     lr=1.0e-03     lwlrap=0.45506     loss=4.16     val_loss=4.38     t=50s\n",
      "Epoch 10/65     lr=1.0e-03     lwlrap=0.56731     loss=4.08     val_loss=3.59     t=50s\n",
      "Epoch 11/65     lr=9.9e-04     lwlrap=0.60904     loss=3.86     val_loss=3.40     t=50s\n",
      "Epoch 12/65     lr=9.9e-04     lwlrap=0.65139     loss=3.75     val_loss=3.13     t=50s\n",
      "Epoch 13/65     lr=9.9e-04     lwlrap=0.64167     loss=3.78     val_loss=3.19     t=50s\n",
      "Epoch 14/65     lr=9.8e-04     lwlrap=0.65755     loss=3.65     val_loss=3.10     t=50s\n",
      "Epoch 15/65     lr=9.7e-04     lwlrap=0.68737     loss=3.68     val_loss=2.89     t=50s\n",
      "Epoch 16/65     lr=9.6e-04     lwlrap=0.64564     loss=3.56     val_loss=3.13     t=50s\n",
      "Epoch 17/65     lr=9.5e-04     lwlrap=0.70171     loss=3.48     val_loss=2.76     t=50s\n",
      "Epoch 18/65     lr=9.4e-04     lwlrap=0.71702     loss=3.48     val_loss=2.74     t=50s\n",
      "Epoch 19/65     lr=9.3e-04     lwlrap=0.67062     loss=3.49     val_loss=2.92     t=50s\n",
      "Epoch 20/65     lr=9.2e-04     lwlrap=0.71658     loss=3.40     val_loss=2.69     t=50s\n",
      "Epoch 21/65     lr=9.0e-04     lwlrap=0.73064     loss=3.35     val_loss=2.58     t=50s\n",
      "Epoch 22/65     lr=8.9e-04     lwlrap=0.73799     loss=3.29     val_loss=2.51     t=50s\n",
      "Epoch 23/65     lr=8.7e-04     lwlrap=0.75789     loss=3.28     val_loss=2.38     t=50s\n",
      "Epoch 24/65     lr=8.6e-04     lwlrap=0.75757     loss=3.21     val_loss=2.42     t=50s\n",
      "Epoch 25/65     lr=8.4e-04     lwlrap=0.73907     loss=3.42     val_loss=2.47     t=50s\n",
      "Epoch 26/65     lr=8.2e-04     lwlrap=0.73268     loss=3.13     val_loss=2.57     t=50s\n",
      "Epoch 27/65     lr=8.0e-04     lwlrap=0.77122     loss=3.05     val_loss=2.35     t=50s\n",
      "Epoch 28/65     lr=7.8e-04     lwlrap=0.72806     loss=3.04     val_loss=2.52     t=50s\n",
      "Epoch 29/65     lr=7.6e-04     lwlrap=0.77886     loss=3.11     val_loss=2.30     t=50s\n",
      "Epoch 30/65     lr=7.4e-04     lwlrap=0.79369     loss=2.93     val_loss=2.17     t=50s\n",
      "Epoch 31/65     lr=7.2e-04     lwlrap=0.78362     loss=2.85     val_loss=2.18     t=50s\n",
      "Epoch 32/65     lr=7.0e-04     lwlrap=0.77815     loss=2.88     val_loss=2.25     t=50s\n",
      "Epoch 33/65     lr=6.8e-04     lwlrap=0.79891     loss=2.84     val_loss=2.10     t=50s\n",
      "Epoch 34/65     lr=6.5e-04     lwlrap=0.79023     loss=2.80     val_loss=2.20     t=50s\n",
      "Epoch 35/65     lr=6.3e-04     lwlrap=0.78654     loss=3.01     val_loss=2.22     t=50s\n",
      "Epoch 36/65     lr=6.1e-04     lwlrap=0.79897     loss=2.84     val_loss=2.11     t=50s\n",
      "Epoch 37/65     lr=5.8e-04     lwlrap=0.78560     loss=2.74     val_loss=2.18     t=50s\n",
      "Epoch 38/65     lr=5.6e-04     lwlrap=0.80790     loss=2.81     val_loss=2.01     t=50s\n",
      "Epoch 39/65     lr=5.4e-04     lwlrap=0.81328     loss=2.71     val_loss=2.01     t=50s\n",
      "Epoch 40/65     lr=5.1e-04     lwlrap=0.82248     loss=2.67     val_loss=1.92     t=50s\n",
      "Epoch 41/65     lr=4.9e-04     lwlrap=0.81284     loss=2.42     val_loss=1.93     t=50s\n",
      "Epoch 42/65     lr=4.6e-04     lwlrap=0.81495     loss=2.60     val_loss=2.05     t=50s\n",
      "Epoch 43/65     lr=4.4e-04     lwlrap=0.82048     loss=2.53     val_loss=1.89     t=50s\n",
      "Epoch 44/65     lr=4.2e-04     lwlrap=0.80833     loss=2.43     val_loss=2.02     t=50s\n",
      "Epoch 45/65     lr=3.9e-04     lwlrap=0.81206     loss=2.49     val_loss=1.96     t=50s\n",
      "Epoch 46/65     lr=3.7e-04     lwlrap=0.82150     loss=2.51     val_loss=1.90     t=50s\n",
      "Epoch 47/65     lr=3.5e-04     lwlrap=0.81518     loss=2.43     val_loss=1.90     t=50s\n",
      "Epoch 48/65     lr=3.2e-04     lwlrap=0.83123     loss=2.30     val_loss=1.84     t=50s\n",
      "Epoch 49/65     lr=3.0e-04     lwlrap=0.82540     loss=2.54     val_loss=1.85     t=50s\n",
      "Epoch 50/65     lr=2.8e-04     lwlrap=0.83077     loss=2.26     val_loss=1.77     t=50s\n",
      "Epoch 51/65     lr=2.6e-04     lwlrap=0.84408     loss=2.06     val_loss=1.71     t=50s\n",
      "Epoch 52/65     lr=2.4e-04     lwlrap=0.83360     loss=2.19     val_loss=1.78     t=50s\n",
      "Epoch 53/65     lr=2.2e-04     lwlrap=0.83359     loss=2.28     val_loss=1.79     t=50s\n",
      "Epoch 54/65     lr=2.0e-04     lwlrap=0.84448     loss=2.12     val_loss=1.71     t=50s\n",
      "Epoch 55/65     lr=1.8e-04     lwlrap=0.84334     loss=2.15     val_loss=1.70     t=50s\n",
      "Epoch 56/65     lr=1.6e-04     lwlrap=0.83961     loss=2.07     val_loss=1.74     t=50s\n",
      "Epoch 57/65     lr=1.4e-04     lwlrap=0.85070     loss=2.09     val_loss=1.70     t=50s\n",
      "Epoch 58/65     lr=1.3e-04     lwlrap=0.84274     loss=2.07     val_loss=1.71     t=50s\n",
      "Epoch 59/65     lr=1.1e-04     lwlrap=0.84327     loss=1.93     val_loss=1.71     t=50s\n",
      "Epoch 60/65     lr=9.6e-05     lwlrap=0.85504     loss=1.73     val_loss=1.65     t=50s\n",
      "Epoch 61/65     lr=8.2e-05     lwlrap=0.84435     loss=2.03     val_loss=1.71     t=50s\n",
      "Epoch 62/65     lr=6.9e-05     lwlrap=0.84088     loss=1.98     val_loss=1.74     t=50s\n",
      "Epoch 63/65     lr=5.7e-05     lwlrap=0.84461     loss=1.99     val_loss=1.71     t=50s\n",
      "Epoch 64/65     lr=4.7e-05     lwlrap=0.84903     loss=2.02     val_loss=1.67     t=50s\n",
      "Epoch 65/65     lr=3.7e-05     lwlrap=0.84859     loss=2.06     val_loss=1.68     t=50s\n",
      "\n",
      " - Re-fitting with curated data only (1/2)\n",
      "\n",
      "Epoch 1/65     lr=1.0e-04     lwlrap=0.84777     loss=1.78     val_loss=1.70     t=34s\n",
      "Epoch 2/65     lr=1.0e-04     lwlrap=0.85251     loss=1.99     val_loss=1.73     t=34s\n",
      "Epoch 3/65     lr=1.0e-04     lwlrap=0.85258     loss=1.79     val_loss=1.69     t=34s\n",
      "Epoch 4/65     lr=1.0e-04     lwlrap=0.85211     loss=2.04     val_loss=1.74     t=34s\n",
      "Epoch 5/65     lr=1.0e-04     lwlrap=0.83904     loss=1.69     val_loss=1.77     t=34s\n",
      "Epoch 6/65     lr=1.0e-04     lwlrap=0.84374     loss=1.56     val_loss=1.74     t=34s\n",
      "Epoch 7/65     lr=1.0e-04     lwlrap=0.84986     loss=1.58     val_loss=1.71     t=34s\n",
      "Epoch 8/65     lr=1.0e-05     lwlrap=0.84990     loss=1.73     val_loss=1.72     t=34s\n",
      "Epoch 9/65     lr=1.0e-05     lwlrap=0.85124     loss=1.52     val_loss=1.70     t=34s\n",
      "Epoch 10/65     lr=1.0e-05     lwlrap=0.84645     loss=1.55     val_loss=1.74     t=34s\n",
      "Epoch 11/65     lr=1.0e-05     lwlrap=0.84482     loss=1.75     val_loss=1.75     t=34s\n",
      "Epoch 12/65     lr=1.0e-06     lwlrap=0.85043     loss=1.58     val_loss=1.72     t=34s\n",
      "Epoch 13/65     lr=1.0e-06     lwlrap=0.85628     loss=1.75     val_loss=1.69     t=34s\n",
      "Epoch 14/65     lr=1.0e-06     lwlrap=0.84924     loss=1.58     val_loss=1.74     t=34s\n",
      "Epoch 15/65     lr=1.0e-06     lwlrap=0.84901     loss=1.70     val_loss=1.72     t=34s\n",
      "Epoch 16/65     lr=1.0e-06     lwlrap=0.84862     loss=1.74     val_loss=1.76     t=34s\n",
      "Epoch 17/65     lr=1.0e-06     lwlrap=0.85307     loss=1.77     val_loss=1.71     t=34s\n",
      "Epoch 18/65     lr=1.0e-07     lwlrap=0.85125     loss=1.55     val_loss=1.71     t=34s\n",
      "Loading weights from model_5.pt\n",
      "\n",
      "\n",
      " - Re-fitting with curated data only (2/2)\n",
      "\n",
      "Epoch 1/65     lr=1.0e-04     lwlrap=0.85309     loss=1.68     val_loss=1.71     t=34s\n",
      "Epoch 2/65     lr=1.0e-04     lwlrap=0.85129     loss=1.68     val_loss=1.72     t=34s\n",
      "Epoch 3/65     lr=1.0e-04     lwlrap=0.84475     loss=1.66     val_loss=1.73     t=34s\n",
      "Epoch 4/65     lr=1.0e-04     lwlrap=0.84503     loss=1.63     val_loss=1.73     t=34s\n",
      "Epoch 5/65     lr=1.0e-04     lwlrap=0.84878     loss=1.65     val_loss=1.75     t=34s\n",
      "Epoch 6/65     lr=1.0e-05     lwlrap=0.85322     loss=1.42     val_loss=1.68     t=34s\n",
      "Epoch 7/65     lr=1.0e-05     lwlrap=0.85235     loss=1.69     val_loss=1.73     t=34s\n",
      "Epoch 8/65     lr=1.0e-05     lwlrap=0.85302     loss=1.27     val_loss=1.69     t=34s\n",
      "Epoch 9/65     lr=1.0e-05     lwlrap=0.85209     loss=1.89     val_loss=1.72     t=34s\n",
      "Epoch 10/65     lr=1.0e-05     lwlrap=0.85469     loss=1.89     val_loss=1.72     t=34s\n",
      "Epoch 11/65     lr=1.0e-06     lwlrap=0.84940     loss=1.72     val_loss=1.73     t=34s\n",
      "Epoch 12/65     lr=1.0e-06     lwlrap=0.84937     loss=1.53     val_loss=1.74     t=34s\n",
      "Epoch 13/65     lr=1.0e-06     lwlrap=0.85159     loss=1.41     val_loss=1.70     t=34s\n",
      "Epoch 14/65     lr=1.0e-06     lwlrap=0.84585     loss=1.57     val_loss=1.73     t=34s\n",
      "Epoch 15/65     lr=1.0e-07     lwlrap=0.85115     loss=1.66     val_loss=1.69     t=34s\n",
      "Loading weights from model_5.pt\n",
      "\n",
      "\n",
      " - Predicting with 25 TTA \n",
      "\n",
      "\n",
      " lwlrap : Scored 0.8551 on validation data\n",
      "\n",
      "    Done in 76.9 minutes \n",
      "\n"
     ]
    }
   ],
   "source": [
    "pred_test, pred_oof = k_fold(model, X_train, y_train, X_test, transforms_,\n",
    "                             X_noisy=X_noisy, y_noisy=y_noisy, \n",
    "                             k=k, batch_size=batch_size, epochs=epochs, \n",
    "                             nb_tta=nb_tta, cp=cp, warmup_prop=warmup_prop,\n",
    "                             mixup=mixup, seed=seed, \n",
    "                             model_name=model_name, pretrained_path=cp_path)"
   ]
  },
  {
   "cell_type": "code",
   "execution_count": 57,
   "metadata": {},
   "outputs": [],
   "source": [
    "score_class, weight = lwlrap(y_train, pred_oof)\n",
    "score = (score_class * weight).sum()"
   ]
  },
  {
   "cell_type": "code",
   "execution_count": 58,
   "metadata": {},
   "outputs": [
    {
     "name": "stdout",
     "output_type": "stream",
     "text": [
      "Local CV score is : 0.8703\n"
     ]
    }
   ],
   "source": [
    "print(f'Local CV score is : {score:.4f}')"
   ]
  },
  {
   "cell_type": "code",
   "execution_count": 59,
   "metadata": {
    "_kg_hide-output": true
   },
   "outputs": [
    {
     "data": {
      "text/html": [
       "<div>\n",
       "<style scoped>\n",
       "    .dataframe tbody tr th:only-of-type {\n",
       "        vertical-align: middle;\n",
       "    }\n",
       "\n",
       "    .dataframe tbody tr th {\n",
       "        vertical-align: top;\n",
       "    }\n",
       "\n",
       "    .dataframe thead th {\n",
       "        text-align: right;\n",
       "    }\n",
       "</style>\n",
       "<table border=\"1\" class=\"dataframe\">\n",
       "  <thead>\n",
       "    <tr style=\"text-align: right;\">\n",
       "      <th></th>\n",
       "      <th>Score</th>\n",
       "      <th>Weight</th>\n",
       "    </tr>\n",
       "    <tr>\n",
       "      <th>Label</th>\n",
       "      <th></th>\n",
       "      <th></th>\n",
       "    </tr>\n",
       "  </thead>\n",
       "  <tbody>\n",
       "    <tr>\n",
       "      <th>Walk_and_footsteps</th>\n",
       "      <td>0.61816</td>\n",
       "      <td>0.01305</td>\n",
       "    </tr>\n",
       "    <tr>\n",
       "      <th>Squeak</th>\n",
       "      <td>0.66539</td>\n",
       "      <td>0.01305</td>\n",
       "    </tr>\n",
       "    <tr>\n",
       "      <th>Fill_(with_liquid)</th>\n",
       "      <td>0.685</td>\n",
       "      <td>0.0087</td>\n",
       "    </tr>\n",
       "    <tr>\n",
       "      <th>Buzz</th>\n",
       "      <td>0.7367</td>\n",
       "      <td>0.00975</td>\n",
       "    </tr>\n",
       "    <tr>\n",
       "      <th>Yell</th>\n",
       "      <td>0.73886</td>\n",
       "      <td>0.01305</td>\n",
       "    </tr>\n",
       "    <tr>\n",
       "      <th>Sink_(filling_or_washing)</th>\n",
       "      <td>0.74065</td>\n",
       "      <td>0.01305</td>\n",
       "    </tr>\n",
       "    <tr>\n",
       "      <th>Traffic_noise_and_roadway_noise</th>\n",
       "      <td>0.74117</td>\n",
       "      <td>0.01305</td>\n",
       "    </tr>\n",
       "    <tr>\n",
       "      <th>Water_tap_and_faucet</th>\n",
       "      <td>0.74604</td>\n",
       "      <td>0.01305</td>\n",
       "    </tr>\n",
       "    <tr>\n",
       "      <th>Mechanical_fan</th>\n",
       "      <td>0.76589</td>\n",
       "      <td>0.00853</td>\n",
       "    </tr>\n",
       "    <tr>\n",
       "      <th>Hiss</th>\n",
       "      <td>0.76768</td>\n",
       "      <td>0.01305</td>\n",
       "    </tr>\n",
       "    <tr>\n",
       "      <th>Tap</th>\n",
       "      <td>0.77258</td>\n",
       "      <td>0.01305</td>\n",
       "    </tr>\n",
       "    <tr>\n",
       "      <th>Cutlery_and_silverware</th>\n",
       "      <td>0.77369</td>\n",
       "      <td>0.01305</td>\n",
       "    </tr>\n",
       "    <tr>\n",
       "      <th>Microwave_oven</th>\n",
       "      <td>0.77416</td>\n",
       "      <td>0.01305</td>\n",
       "    </tr>\n",
       "    <tr>\n",
       "      <th>Bus</th>\n",
       "      <td>0.78029</td>\n",
       "      <td>0.01305</td>\n",
       "    </tr>\n",
       "    <tr>\n",
       "      <th>Motorcycle</th>\n",
       "      <td>0.7861</td>\n",
       "      <td>0.01305</td>\n",
       "    </tr>\n",
       "    <tr>\n",
       "      <th>Trickle_and_dribble</th>\n",
       "      <td>0.79233</td>\n",
       "      <td>0.00922</td>\n",
       "    </tr>\n",
       "    <tr>\n",
       "      <th>Gasp</th>\n",
       "      <td>0.79252</td>\n",
       "      <td>0.00835</td>\n",
       "    </tr>\n",
       "    <tr>\n",
       "      <th>Chink_and_clink</th>\n",
       "      <td>0.80138</td>\n",
       "      <td>0.01305</td>\n",
       "    </tr>\n",
       "    <tr>\n",
       "      <th>Dishes_and_pots_and_pans</th>\n",
       "      <td>0.81386</td>\n",
       "      <td>0.01305</td>\n",
       "    </tr>\n",
       "    <tr>\n",
       "      <th>Bathtub_(filling_or_washing)</th>\n",
       "      <td>0.81556</td>\n",
       "      <td>0.01305</td>\n",
       "    </tr>\n",
       "    <tr>\n",
       "      <th>Drip</th>\n",
       "      <td>0.81887</td>\n",
       "      <td>0.01305</td>\n",
       "    </tr>\n",
       "    <tr>\n",
       "      <th>Cupboard_open_or_close</th>\n",
       "      <td>0.82087</td>\n",
       "      <td>0.01305</td>\n",
       "    </tr>\n",
       "    <tr>\n",
       "      <th>Frying_(food)</th>\n",
       "      <td>0.82089</td>\n",
       "      <td>0.01096</td>\n",
       "    </tr>\n",
       "    <tr>\n",
       "      <th>Accelerating_and_revving_and_vroom</th>\n",
       "      <td>0.82391</td>\n",
       "      <td>0.01305</td>\n",
       "    </tr>\n",
       "    <tr>\n",
       "      <th>Run</th>\n",
       "      <td>0.82789</td>\n",
       "      <td>0.01305</td>\n",
       "    </tr>\n",
       "    <tr>\n",
       "      <th>Slam</th>\n",
       "      <td>0.83424</td>\n",
       "      <td>0.01305</td>\n",
       "    </tr>\n",
       "    <tr>\n",
       "      <th>Stream</th>\n",
       "      <td>0.83956</td>\n",
       "      <td>0.01288</td>\n",
       "    </tr>\n",
       "    <tr>\n",
       "      <th>Chewing_and_mastication</th>\n",
       "      <td>0.84337</td>\n",
       "      <td>0.01305</td>\n",
       "    </tr>\n",
       "    <tr>\n",
       "      <th>Crowd</th>\n",
       "      <td>0.85428</td>\n",
       "      <td>0.01305</td>\n",
       "    </tr>\n",
       "    <tr>\n",
       "      <th>Printer</th>\n",
       "      <td>0.86122</td>\n",
       "      <td>0.01305</td>\n",
       "    </tr>\n",
       "    <tr>\n",
       "      <th>...</th>\n",
       "      <td>...</td>\n",
       "      <td>...</td>\n",
       "    </tr>\n",
       "    <tr>\n",
       "      <th>Raindrop</th>\n",
       "      <td>0.90862</td>\n",
       "      <td>0.01305</td>\n",
       "    </tr>\n",
       "    <tr>\n",
       "      <th>Toilet_flush</th>\n",
       "      <td>0.90946</td>\n",
       "      <td>0.01305</td>\n",
       "    </tr>\n",
       "    <tr>\n",
       "      <th>Keys_jangling</th>\n",
       "      <td>0.91089</td>\n",
       "      <td>0.01305</td>\n",
       "    </tr>\n",
       "    <tr>\n",
       "      <th>Child_speech_and_kid_speaking</th>\n",
       "      <td>0.9148</td>\n",
       "      <td>0.01305</td>\n",
       "    </tr>\n",
       "    <tr>\n",
       "      <th>Shatter</th>\n",
       "      <td>0.91578</td>\n",
       "      <td>0.01305</td>\n",
       "    </tr>\n",
       "    <tr>\n",
       "      <th>Race_car_and_auto_racing</th>\n",
       "      <td>0.91667</td>\n",
       "      <td>0.00975</td>\n",
       "    </tr>\n",
       "    <tr>\n",
       "      <th>Writing</th>\n",
       "      <td>0.91689</td>\n",
       "      <td>0.01305</td>\n",
       "    </tr>\n",
       "    <tr>\n",
       "      <th>Gong</th>\n",
       "      <td>0.91689</td>\n",
       "      <td>0.01305</td>\n",
       "    </tr>\n",
       "    <tr>\n",
       "      <th>Zipper_(clothing)</th>\n",
       "      <td>0.91949</td>\n",
       "      <td>0.01305</td>\n",
       "    </tr>\n",
       "    <tr>\n",
       "      <th>Meow</th>\n",
       "      <td>0.92131</td>\n",
       "      <td>0.01305</td>\n",
       "    </tr>\n",
       "    <tr>\n",
       "      <th>Church_bell</th>\n",
       "      <td>0.92703</td>\n",
       "      <td>0.01305</td>\n",
       "    </tr>\n",
       "    <tr>\n",
       "      <th>Screaming</th>\n",
       "      <td>0.92722</td>\n",
       "      <td>0.01305</td>\n",
       "    </tr>\n",
       "    <tr>\n",
       "      <th>Sigh</th>\n",
       "      <td>0.93567</td>\n",
       "      <td>0.00992</td>\n",
       "    </tr>\n",
       "    <tr>\n",
       "      <th>Acoustic_guitar</th>\n",
       "      <td>0.94529</td>\n",
       "      <td>0.01305</td>\n",
       "    </tr>\n",
       "    <tr>\n",
       "      <th>Bark</th>\n",
       "      <td>0.94714</td>\n",
       "      <td>0.01305</td>\n",
       "    </tr>\n",
       "    <tr>\n",
       "      <th>Bass_drum</th>\n",
       "      <td>0.94768</td>\n",
       "      <td>0.01305</td>\n",
       "    </tr>\n",
       "    <tr>\n",
       "      <th>Fart</th>\n",
       "      <td>0.952</td>\n",
       "      <td>0.01305</td>\n",
       "    </tr>\n",
       "    <tr>\n",
       "      <th>Whispering</th>\n",
       "      <td>0.95833</td>\n",
       "      <td>0.01288</td>\n",
       "    </tr>\n",
       "    <tr>\n",
       "      <th>Harmonica</th>\n",
       "      <td>0.96003</td>\n",
       "      <td>0.01305</td>\n",
       "    </tr>\n",
       "    <tr>\n",
       "      <th>Accordion</th>\n",
       "      <td>0.96099</td>\n",
       "      <td>0.00818</td>\n",
       "    </tr>\n",
       "    <tr>\n",
       "      <th>Glockenspiel</th>\n",
       "      <td>0.96429</td>\n",
       "      <td>0.00975</td>\n",
       "    </tr>\n",
       "    <tr>\n",
       "      <th>Burping_and_eructation</th>\n",
       "      <td>0.96468</td>\n",
       "      <td>0.01305</td>\n",
       "    </tr>\n",
       "    <tr>\n",
       "      <th>Bass_guitar</th>\n",
       "      <td>0.96487</td>\n",
       "      <td>0.01305</td>\n",
       "    </tr>\n",
       "    <tr>\n",
       "      <th>Purr</th>\n",
       "      <td>0.97692</td>\n",
       "      <td>0.01131</td>\n",
       "    </tr>\n",
       "    <tr>\n",
       "      <th>Bicycle_bell</th>\n",
       "      <td>0.97811</td>\n",
       "      <td>0.01166</td>\n",
       "    </tr>\n",
       "    <tr>\n",
       "      <th>Finger_snapping</th>\n",
       "      <td>0.98444</td>\n",
       "      <td>0.01305</td>\n",
       "    </tr>\n",
       "    <tr>\n",
       "      <th>Hi-hat</th>\n",
       "      <td>0.98444</td>\n",
       "      <td>0.01305</td>\n",
       "    </tr>\n",
       "    <tr>\n",
       "      <th>Marimba_and_xylophone</th>\n",
       "      <td>0.98444</td>\n",
       "      <td>0.01305</td>\n",
       "    </tr>\n",
       "    <tr>\n",
       "      <th>Skateboard</th>\n",
       "      <td>0.98444</td>\n",
       "      <td>0.01305</td>\n",
       "    </tr>\n",
       "    <tr>\n",
       "      <th>Strum</th>\n",
       "      <td>0.99556</td>\n",
       "      <td>0.01305</td>\n",
       "    </tr>\n",
       "  </tbody>\n",
       "</table>\n",
       "<p>80 rows × 2 columns</p>\n",
       "</div>"
      ],
      "text/plain": [
       "                                      Score   Weight\n",
       "Label                                               \n",
       "Walk_and_footsteps                  0.61816  0.01305\n",
       "Squeak                              0.66539  0.01305\n",
       "Fill_(with_liquid)                    0.685   0.0087\n",
       "Buzz                                 0.7367  0.00975\n",
       "Yell                                0.73886  0.01305\n",
       "Sink_(filling_or_washing)           0.74065  0.01305\n",
       "Traffic_noise_and_roadway_noise     0.74117  0.01305\n",
       "Water_tap_and_faucet                0.74604  0.01305\n",
       "Mechanical_fan                      0.76589  0.00853\n",
       "Hiss                                0.76768  0.01305\n",
       "Tap                                 0.77258  0.01305\n",
       "Cutlery_and_silverware              0.77369  0.01305\n",
       "Microwave_oven                      0.77416  0.01305\n",
       "Bus                                 0.78029  0.01305\n",
       "Motorcycle                           0.7861  0.01305\n",
       "Trickle_and_dribble                 0.79233  0.00922\n",
       "Gasp                                0.79252  0.00835\n",
       "Chink_and_clink                     0.80138  0.01305\n",
       "Dishes_and_pots_and_pans            0.81386  0.01305\n",
       "Bathtub_(filling_or_washing)        0.81556  0.01305\n",
       "Drip                                0.81887  0.01305\n",
       "Cupboard_open_or_close              0.82087  0.01305\n",
       "Frying_(food)                       0.82089  0.01096\n",
       "Accelerating_and_revving_and_vroom  0.82391  0.01305\n",
       "Run                                 0.82789  0.01305\n",
       "Slam                                0.83424  0.01305\n",
       "Stream                              0.83956  0.01288\n",
       "Chewing_and_mastication             0.84337  0.01305\n",
       "Crowd                               0.85428  0.01305\n",
       "Printer                             0.86122  0.01305\n",
       "...                                     ...      ...\n",
       "Raindrop                            0.90862  0.01305\n",
       "Toilet_flush                        0.90946  0.01305\n",
       "Keys_jangling                       0.91089  0.01305\n",
       "Child_speech_and_kid_speaking        0.9148  0.01305\n",
       "Shatter                             0.91578  0.01305\n",
       "Race_car_and_auto_racing            0.91667  0.00975\n",
       "Writing                             0.91689  0.01305\n",
       "Gong                                0.91689  0.01305\n",
       "Zipper_(clothing)                   0.91949  0.01305\n",
       "Meow                                0.92131  0.01305\n",
       "Church_bell                         0.92703  0.01305\n",
       "Screaming                           0.92722  0.01305\n",
       "Sigh                                0.93567  0.00992\n",
       "Acoustic_guitar                     0.94529  0.01305\n",
       "Bark                                0.94714  0.01305\n",
       "Bass_drum                           0.94768  0.01305\n",
       "Fart                                  0.952  0.01305\n",
       "Whispering                          0.95833  0.01288\n",
       "Harmonica                           0.96003  0.01305\n",
       "Accordion                           0.96099  0.00818\n",
       "Glockenspiel                        0.96429  0.00975\n",
       "Burping_and_eructation              0.96468  0.01305\n",
       "Bass_guitar                         0.96487  0.01305\n",
       "Purr                                0.97692  0.01131\n",
       "Bicycle_bell                        0.97811  0.01166\n",
       "Finger_snapping                     0.98444  0.01305\n",
       "Hi-hat                              0.98444  0.01305\n",
       "Marimba_and_xylophone               0.98444  0.01305\n",
       "Skateboard                          0.98444  0.01305\n",
       "Strum                               0.99556  0.01305\n",
       "\n",
       "[80 rows x 2 columns]"
      ]
     },
     "execution_count": 59,
     "metadata": {},
     "output_type": "execute_result"
    }
   ],
   "source": [
    "score_df = pd.DataFrame(np.array([labels, np.round(score_class, 5), np.round(weight, 5)]).T, columns=['Label', 'Score', 'Weight']).set_index('Label').sort_values('Score')\n",
    "score_df"
   ]
  },
  {
   "cell_type": "markdown",
   "metadata": {},
   "source": [
    "# Submission"
   ]
  },
  {
   "cell_type": "code",
   "execution_count": 60,
   "metadata": {},
   "outputs": [],
   "source": [
    "df_test[df_test.columns[1:]] = pred_test"
   ]
  },
  {
   "cell_type": "code",
   "execution_count": 61,
   "metadata": {},
   "outputs": [],
   "source": [
    "df_test.to_csv('submission.csv', index=False)"
   ]
  }
 ],
 "metadata": {
  "kernelspec": {
   "display_name": "Python 3",
   "language": "python",
   "name": "python3"
  },
  "language_info": {
   "codemirror_mode": {
    "name": "ipython",
    "version": 3
   },
   "file_extension": ".py",
   "mimetype": "text/x-python",
   "name": "python",
   "nbconvert_exporter": "python",
   "pygments_lexer": "ipython3",
   "version": "3.7.3"
  }
 },
 "nbformat": 4,
 "nbformat_minor": 1
}
